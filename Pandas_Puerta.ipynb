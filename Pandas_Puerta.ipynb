{
  "nbformat": 4,
  "nbformat_minor": 0,
  "metadata": {
    "colab": {
      "name": "Pandas-Puerta.ipynb",
      "provenance": [],
      "collapsed_sections": [],
      "authorship_tag": "ABX9TyMO/k8eocJokgj2shrPnv9v",
      "include_colab_link": true
    },
    "kernelspec": {
      "name": "python3",
      "display_name": "Python 3"
    },
    "language_info": {
      "name": "python"
    }
  },
  "cells": [
    {
      "cell_type": "markdown",
      "metadata": {
        "id": "view-in-github",
        "colab_type": "text"
      },
      "source": [
        "<a href=\"https://colab.research.google.com/github/Mapuertag/Datascience300/blob/main/Pandas_Puerta.ipynb\" target=\"_parent\"><img src=\"https://colab.research.google.com/assets/colab-badge.svg\" alt=\"Open In Colab\"/></a>"
      ]
    },
    {
      "cell_type": "markdown",
      "source": [
        "**Actividad**\n",
        "\n",
        "Formato: Entregar un archivo con formato .ipynb Debe tener el nombre “Pandas+Apellido”.\n",
        "\n",
        "Consigna:\n",
        "\n",
        "1. Con este archivo, construir un objeto de series de tiempo con el índice igual al año de los juegos olímpicos.\n",
        "\n",
        "2. Separar nombres de apellidos en dos columnas distintas usando la coma como separador.\n",
        "\n",
        "3. Obtener medidas resumen del conjunto de datos. ¿Cuál es el país que ganó más medallas?\n",
        "\n",
        "4. Construir una tabla que muestre cuántas medallas obtuvieron los hombres en total en cada año que se realizó el evento."
      ],
      "metadata": {
        "id": "lFkm0nO9OuP_"
      }
    },
    {
      "cell_type": "code",
      "execution_count": 1,
      "metadata": {
        "colab": {
          "base_uri": "https://localhost:8080/"
        },
        "id": "AEb3S07vh90M",
        "outputId": "bff2a6dc-b3b5-48ba-b4f5-dd0618fa7b9f"
      },
      "outputs": [
        {
          "output_type": "stream",
          "name": "stdout",
          "text": [
            "Mounted at /content/gdrive\n"
          ]
        }
      ],
      "source": [
        "import pandas as pd\n",
        "import numpy as np\n",
        "import matplotlib.pyplot as plt\n",
        "import seaborn as sns\n",
        "from google.colab import drive\n",
        "import os\n",
        "drive.mount('/content/gdrive')\n",
        "# Establecer ruta de acceso en drive\n",
        "#import os\n",
        "#print(os.getcwd())\n",
        "#os.chdir(\"/content/gdrive/My Drive\")"
      ]
    },
    {
      "cell_type": "code",
      "source": [
        "%cd \"/content/gdrive/MyDrive/UNIVERSIDAD/Practicas\""
      ],
      "metadata": {
        "colab": {
          "base_uri": "https://localhost:8080/"
        },
        "id": "0L62Y_CliKf7",
        "outputId": "220c3c0b-2749-4add-f20e-07f0f930e86e"
      },
      "execution_count": 2,
      "outputs": [
        {
          "output_type": "stream",
          "name": "stdout",
          "text": [
            "/content/gdrive/MyDrive/UNIVERSIDAD/Practicas\n"
          ]
        }
      ]
    },
    {
      "cell_type": "code",
      "source": [
        "%%time\n",
        "df_olim= pd.read_csv('olimpyc.csv',sep=\",\", encoding = 'latin9')\n",
        "#df = pd.read_csv('olimpyc_utf8.csv',sep=\",\")\n",
        "#df = pd.read_csv('Summer-Olympic-medals-1976-to-2008.csv',sep=\",\")\n"
      ],
      "metadata": {
        "colab": {
          "base_uri": "https://localhost:8080/"
        },
        "id": "Gypc__kLiNc4",
        "outputId": "f2bee1cc-8881-49c1-efc2-d7b55eeee6f6"
      },
      "execution_count": 3,
      "outputs": [
        {
          "output_type": "stream",
          "name": "stdout",
          "text": [
            "CPU times: user 41.4 ms, sys: 9.71 ms, total: 51.1 ms\n",
            "Wall time: 684 ms\n"
          ]
        }
      ]
    },
    {
      "cell_type": "code",
      "source": [
        "df_olim"
      ],
      "metadata": {
        "colab": {
          "base_uri": "https://localhost:8080/",
          "height": 424
        },
        "id": "13BtJZ68iTjH",
        "outputId": "c198c08c-0def-4e9f-aa59-f32bcd7ce434"
      },
      "execution_count": 4,
      "outputs": [
        {
          "output_type": "execute_result",
          "data": {
            "text/html": [
              "<div>\n",
              "<style scoped>\n",
              "    .dataframe tbody tr th:only-of-type {\n",
              "        vertical-align: middle;\n",
              "    }\n",
              "\n",
              "    .dataframe tbody tr th {\n",
              "        vertical-align: top;\n",
              "    }\n",
              "\n",
              "    .dataframe thead th {\n",
              "        text-align: right;\n",
              "    }\n",
              "</style>\n",
              "<table border=\"1\" class=\"dataframe\">\n",
              "  <thead>\n",
              "    <tr style=\"text-align: right;\">\n",
              "      <th></th>\n",
              "      <th>City</th>\n",
              "      <th>Year</th>\n",
              "      <th>Sport</th>\n",
              "      <th>Discipline</th>\n",
              "      <th>Event</th>\n",
              "      <th>Athlete</th>\n",
              "      <th>Gender</th>\n",
              "      <th>Country_Code</th>\n",
              "      <th>Country</th>\n",
              "      <th>Event_gender</th>\n",
              "      <th>Medal</th>\n",
              "    </tr>\n",
              "  </thead>\n",
              "  <tbody>\n",
              "    <tr>\n",
              "      <th>0</th>\n",
              "      <td>Montreal</td>\n",
              "      <td>1976.0</td>\n",
              "      <td>Aquatics</td>\n",
              "      <td>Diving</td>\n",
              "      <td>3m springboard</td>\n",
              "      <td>KÖHLER, Christa</td>\n",
              "      <td>Women</td>\n",
              "      <td>GDR</td>\n",
              "      <td>East Germany</td>\n",
              "      <td>W</td>\n",
              "      <td>Silver</td>\n",
              "    </tr>\n",
              "    <tr>\n",
              "      <th>1</th>\n",
              "      <td>Montreal</td>\n",
              "      <td>1976.0</td>\n",
              "      <td>Aquatics</td>\n",
              "      <td>Diving</td>\n",
              "      <td>3m springboard</td>\n",
              "      <td>KOSENKOV, Aleksandr</td>\n",
              "      <td>Men</td>\n",
              "      <td>URS</td>\n",
              "      <td>Soviet Union</td>\n",
              "      <td>M</td>\n",
              "      <td>Bronze</td>\n",
              "    </tr>\n",
              "    <tr>\n",
              "      <th>2</th>\n",
              "      <td>Montreal</td>\n",
              "      <td>1976.0</td>\n",
              "      <td>Aquatics</td>\n",
              "      <td>Diving</td>\n",
              "      <td>3m springboard</td>\n",
              "      <td>BOGGS, Philip George</td>\n",
              "      <td>Men</td>\n",
              "      <td>USA</td>\n",
              "      <td>United States</td>\n",
              "      <td>M</td>\n",
              "      <td>Gold</td>\n",
              "    </tr>\n",
              "    <tr>\n",
              "      <th>3</th>\n",
              "      <td>Montreal</td>\n",
              "      <td>1976.0</td>\n",
              "      <td>Aquatics</td>\n",
              "      <td>Diving</td>\n",
              "      <td>3m springboard</td>\n",
              "      <td>CAGNOTTO, Giorgio Franco</td>\n",
              "      <td>Men</td>\n",
              "      <td>ITA</td>\n",
              "      <td>Italy</td>\n",
              "      <td>M</td>\n",
              "      <td>Silver</td>\n",
              "    </tr>\n",
              "    <tr>\n",
              "      <th>4</th>\n",
              "      <td>Montreal</td>\n",
              "      <td>1976.0</td>\n",
              "      <td>Aquatics</td>\n",
              "      <td>Diving</td>\n",
              "      <td>10m platform</td>\n",
              "      <td>WILSON, Deborah Keplar</td>\n",
              "      <td>Women</td>\n",
              "      <td>USA</td>\n",
              "      <td>United States</td>\n",
              "      <td>W</td>\n",
              "      <td>Bronze</td>\n",
              "    </tr>\n",
              "    <tr>\n",
              "      <th>...</th>\n",
              "      <td>...</td>\n",
              "      <td>...</td>\n",
              "      <td>...</td>\n",
              "      <td>...</td>\n",
              "      <td>...</td>\n",
              "      <td>...</td>\n",
              "      <td>...</td>\n",
              "      <td>...</td>\n",
              "      <td>...</td>\n",
              "      <td>...</td>\n",
              "      <td>...</td>\n",
              "    </tr>\n",
              "    <tr>\n",
              "      <th>15428</th>\n",
              "      <td>Beijing</td>\n",
              "      <td>2008.0</td>\n",
              "      <td>Wrestling</td>\n",
              "      <td>Wrestling Gre-R</td>\n",
              "      <td>66 - 74kg</td>\n",
              "      <td>GUENOT, Christophe</td>\n",
              "      <td>Men</td>\n",
              "      <td>FRA</td>\n",
              "      <td>France</td>\n",
              "      <td>M</td>\n",
              "      <td>Bronze</td>\n",
              "    </tr>\n",
              "    <tr>\n",
              "      <th>15429</th>\n",
              "      <td>Beijing</td>\n",
              "      <td>2008.0</td>\n",
              "      <td>Wrestling</td>\n",
              "      <td>Wrestling Gre-R</td>\n",
              "      <td>66 - 74kg</td>\n",
              "      <td>KVIRKELIA, Manuchar</td>\n",
              "      <td>Men</td>\n",
              "      <td>GEO</td>\n",
              "      <td>Georgia</td>\n",
              "      <td>M</td>\n",
              "      <td>Gold</td>\n",
              "    </tr>\n",
              "    <tr>\n",
              "      <th>15430</th>\n",
              "      <td>Beijing</td>\n",
              "      <td>2008.0</td>\n",
              "      <td>Wrestling</td>\n",
              "      <td>Wrestling Gre-R</td>\n",
              "      <td>55 - 60kg</td>\n",
              "      <td>RAHIMOV, Vitaliy</td>\n",
              "      <td>Men</td>\n",
              "      <td>AZE</td>\n",
              "      <td>Azerbaijan</td>\n",
              "      <td>M</td>\n",
              "      <td>Silver</td>\n",
              "    </tr>\n",
              "    <tr>\n",
              "      <th>15431</th>\n",
              "      <td>Beijing</td>\n",
              "      <td>2008.0</td>\n",
              "      <td>Wrestling</td>\n",
              "      <td>Wrestling Gre-R</td>\n",
              "      <td>60 - 66kg</td>\n",
              "      <td>GUENOT, Steeve</td>\n",
              "      <td>Men</td>\n",
              "      <td>FRA</td>\n",
              "      <td>France</td>\n",
              "      <td>M</td>\n",
              "      <td>Gold</td>\n",
              "    </tr>\n",
              "    <tr>\n",
              "      <th>15432</th>\n",
              "      <td>Beijing</td>\n",
              "      <td>2008.0</td>\n",
              "      <td>Wrestling</td>\n",
              "      <td>Wrestling Gre-R</td>\n",
              "      <td>96 - 120kg</td>\n",
              "      <td>LOPEZ, Mijain</td>\n",
              "      <td>Men</td>\n",
              "      <td>CUB</td>\n",
              "      <td>Cuba</td>\n",
              "      <td>M</td>\n",
              "      <td>Gold</td>\n",
              "    </tr>\n",
              "  </tbody>\n",
              "</table>\n",
              "<p>15433 rows × 11 columns</p>\n",
              "</div>"
            ],
            "text/plain": [
              "           City    Year      Sport  ...        Country Event_gender   Medal\n",
              "0      Montreal  1976.0   Aquatics  ...   East Germany            W  Silver\n",
              "1      Montreal  1976.0   Aquatics  ...   Soviet Union            M  Bronze\n",
              "2      Montreal  1976.0   Aquatics  ...  United States            M    Gold\n",
              "3      Montreal  1976.0   Aquatics  ...          Italy            M  Silver\n",
              "4      Montreal  1976.0   Aquatics  ...  United States            W  Bronze\n",
              "...         ...     ...        ...  ...            ...          ...     ...\n",
              "15428   Beijing  2008.0  Wrestling  ...         France            M  Bronze\n",
              "15429   Beijing  2008.0  Wrestling  ...        Georgia            M    Gold\n",
              "15430   Beijing  2008.0  Wrestling  ...     Azerbaijan            M  Silver\n",
              "15431   Beijing  2008.0  Wrestling  ...         France            M    Gold\n",
              "15432   Beijing  2008.0  Wrestling  ...           Cuba            M    Gold\n",
              "\n",
              "[15433 rows x 11 columns]"
            ]
          },
          "metadata": {},
          "execution_count": 4
        }
      ]
    },
    {
      "cell_type": "code",
      "source": [
        "df_olim.shape"
      ],
      "metadata": {
        "colab": {
          "base_uri": "https://localhost:8080/"
        },
        "id": "N2o8vs6Yiv6Z",
        "outputId": "ecab9b81-9528-48ab-a6ad-e67a459c7670"
      },
      "execution_count": 5,
      "outputs": [
        {
          "output_type": "execute_result",
          "data": {
            "text/plain": [
              "(15433, 11)"
            ]
          },
          "metadata": {},
          "execution_count": 5
        }
      ]
    },
    {
      "cell_type": "markdown",
      "source": [
        "**Solución 1**\n",
        "\n",
        "Construir un objeto de series de tiempo con el índice igual al año de los juegos olímpicos"
      ],
      "metadata": {
        "id": "leQWfQTTSiHQ"
      }
    },
    {
      "cell_type": "code",
      "source": [
        "df_olim = pd.read_csv('olimpyc.csv',sep=\",\", encoding = 'latin9',index_col=1)\n",
        "df_olim"
      ],
      "metadata": {
        "colab": {
          "base_uri": "https://localhost:8080/",
          "height": 455
        },
        "id": "Kdk9x9wMSoKw",
        "outputId": "845bd21a-f4ff-4823-d65d-9bef7b9d3005"
      },
      "execution_count": 7,
      "outputs": [
        {
          "output_type": "execute_result",
          "data": {
            "text/html": [
              "<div>\n",
              "<style scoped>\n",
              "    .dataframe tbody tr th:only-of-type {\n",
              "        vertical-align: middle;\n",
              "    }\n",
              "\n",
              "    .dataframe tbody tr th {\n",
              "        vertical-align: top;\n",
              "    }\n",
              "\n",
              "    .dataframe thead th {\n",
              "        text-align: right;\n",
              "    }\n",
              "</style>\n",
              "<table border=\"1\" class=\"dataframe\">\n",
              "  <thead>\n",
              "    <tr style=\"text-align: right;\">\n",
              "      <th></th>\n",
              "      <th>City</th>\n",
              "      <th>Sport</th>\n",
              "      <th>Discipline</th>\n",
              "      <th>Event</th>\n",
              "      <th>Athlete</th>\n",
              "      <th>Gender</th>\n",
              "      <th>Country_Code</th>\n",
              "      <th>Country</th>\n",
              "      <th>Event_gender</th>\n",
              "      <th>Medal</th>\n",
              "    </tr>\n",
              "    <tr>\n",
              "      <th>Year</th>\n",
              "      <th></th>\n",
              "      <th></th>\n",
              "      <th></th>\n",
              "      <th></th>\n",
              "      <th></th>\n",
              "      <th></th>\n",
              "      <th></th>\n",
              "      <th></th>\n",
              "      <th></th>\n",
              "      <th></th>\n",
              "    </tr>\n",
              "  </thead>\n",
              "  <tbody>\n",
              "    <tr>\n",
              "      <th>1976.0</th>\n",
              "      <td>Montreal</td>\n",
              "      <td>Aquatics</td>\n",
              "      <td>Diving</td>\n",
              "      <td>3m springboard</td>\n",
              "      <td>KÖHLER, Christa</td>\n",
              "      <td>Women</td>\n",
              "      <td>GDR</td>\n",
              "      <td>East Germany</td>\n",
              "      <td>W</td>\n",
              "      <td>Silver</td>\n",
              "    </tr>\n",
              "    <tr>\n",
              "      <th>1976.0</th>\n",
              "      <td>Montreal</td>\n",
              "      <td>Aquatics</td>\n",
              "      <td>Diving</td>\n",
              "      <td>3m springboard</td>\n",
              "      <td>KOSENKOV, Aleksandr</td>\n",
              "      <td>Men</td>\n",
              "      <td>URS</td>\n",
              "      <td>Soviet Union</td>\n",
              "      <td>M</td>\n",
              "      <td>Bronze</td>\n",
              "    </tr>\n",
              "    <tr>\n",
              "      <th>1976.0</th>\n",
              "      <td>Montreal</td>\n",
              "      <td>Aquatics</td>\n",
              "      <td>Diving</td>\n",
              "      <td>3m springboard</td>\n",
              "      <td>BOGGS, Philip George</td>\n",
              "      <td>Men</td>\n",
              "      <td>USA</td>\n",
              "      <td>United States</td>\n",
              "      <td>M</td>\n",
              "      <td>Gold</td>\n",
              "    </tr>\n",
              "    <tr>\n",
              "      <th>1976.0</th>\n",
              "      <td>Montreal</td>\n",
              "      <td>Aquatics</td>\n",
              "      <td>Diving</td>\n",
              "      <td>3m springboard</td>\n",
              "      <td>CAGNOTTO, Giorgio Franco</td>\n",
              "      <td>Men</td>\n",
              "      <td>ITA</td>\n",
              "      <td>Italy</td>\n",
              "      <td>M</td>\n",
              "      <td>Silver</td>\n",
              "    </tr>\n",
              "    <tr>\n",
              "      <th>1976.0</th>\n",
              "      <td>Montreal</td>\n",
              "      <td>Aquatics</td>\n",
              "      <td>Diving</td>\n",
              "      <td>10m platform</td>\n",
              "      <td>WILSON, Deborah Keplar</td>\n",
              "      <td>Women</td>\n",
              "      <td>USA</td>\n",
              "      <td>United States</td>\n",
              "      <td>W</td>\n",
              "      <td>Bronze</td>\n",
              "    </tr>\n",
              "    <tr>\n",
              "      <th>...</th>\n",
              "      <td>...</td>\n",
              "      <td>...</td>\n",
              "      <td>...</td>\n",
              "      <td>...</td>\n",
              "      <td>...</td>\n",
              "      <td>...</td>\n",
              "      <td>...</td>\n",
              "      <td>...</td>\n",
              "      <td>...</td>\n",
              "      <td>...</td>\n",
              "    </tr>\n",
              "    <tr>\n",
              "      <th>2008.0</th>\n",
              "      <td>Beijing</td>\n",
              "      <td>Wrestling</td>\n",
              "      <td>Wrestling Gre-R</td>\n",
              "      <td>66 - 74kg</td>\n",
              "      <td>GUENOT, Christophe</td>\n",
              "      <td>Men</td>\n",
              "      <td>FRA</td>\n",
              "      <td>France</td>\n",
              "      <td>M</td>\n",
              "      <td>Bronze</td>\n",
              "    </tr>\n",
              "    <tr>\n",
              "      <th>2008.0</th>\n",
              "      <td>Beijing</td>\n",
              "      <td>Wrestling</td>\n",
              "      <td>Wrestling Gre-R</td>\n",
              "      <td>66 - 74kg</td>\n",
              "      <td>KVIRKELIA, Manuchar</td>\n",
              "      <td>Men</td>\n",
              "      <td>GEO</td>\n",
              "      <td>Georgia</td>\n",
              "      <td>M</td>\n",
              "      <td>Gold</td>\n",
              "    </tr>\n",
              "    <tr>\n",
              "      <th>2008.0</th>\n",
              "      <td>Beijing</td>\n",
              "      <td>Wrestling</td>\n",
              "      <td>Wrestling Gre-R</td>\n",
              "      <td>55 - 60kg</td>\n",
              "      <td>RAHIMOV, Vitaliy</td>\n",
              "      <td>Men</td>\n",
              "      <td>AZE</td>\n",
              "      <td>Azerbaijan</td>\n",
              "      <td>M</td>\n",
              "      <td>Silver</td>\n",
              "    </tr>\n",
              "    <tr>\n",
              "      <th>2008.0</th>\n",
              "      <td>Beijing</td>\n",
              "      <td>Wrestling</td>\n",
              "      <td>Wrestling Gre-R</td>\n",
              "      <td>60 - 66kg</td>\n",
              "      <td>GUENOT, Steeve</td>\n",
              "      <td>Men</td>\n",
              "      <td>FRA</td>\n",
              "      <td>France</td>\n",
              "      <td>M</td>\n",
              "      <td>Gold</td>\n",
              "    </tr>\n",
              "    <tr>\n",
              "      <th>2008.0</th>\n",
              "      <td>Beijing</td>\n",
              "      <td>Wrestling</td>\n",
              "      <td>Wrestling Gre-R</td>\n",
              "      <td>96 - 120kg</td>\n",
              "      <td>LOPEZ, Mijain</td>\n",
              "      <td>Men</td>\n",
              "      <td>CUB</td>\n",
              "      <td>Cuba</td>\n",
              "      <td>M</td>\n",
              "      <td>Gold</td>\n",
              "    </tr>\n",
              "  </tbody>\n",
              "</table>\n",
              "<p>15433 rows × 10 columns</p>\n",
              "</div>"
            ],
            "text/plain": [
              "            City      Sport  ... Event_gender   Medal\n",
              "Year                         ...                     \n",
              "1976.0  Montreal   Aquatics  ...            W  Silver\n",
              "1976.0  Montreal   Aquatics  ...            M  Bronze\n",
              "1976.0  Montreal   Aquatics  ...            M    Gold\n",
              "1976.0  Montreal   Aquatics  ...            M  Silver\n",
              "1976.0  Montreal   Aquatics  ...            W  Bronze\n",
              "...          ...        ...  ...          ...     ...\n",
              "2008.0   Beijing  Wrestling  ...            M  Bronze\n",
              "2008.0   Beijing  Wrestling  ...            M    Gold\n",
              "2008.0   Beijing  Wrestling  ...            M  Silver\n",
              "2008.0   Beijing  Wrestling  ...            M    Gold\n",
              "2008.0   Beijing  Wrestling  ...            M    Gold\n",
              "\n",
              "[15433 rows x 10 columns]"
            ]
          },
          "metadata": {},
          "execution_count": 7
        }
      ]
    },
    {
      "cell_type": "markdown",
      "source": [
        "**Solución 2**\n",
        "\n",
        "Separar nombres de apellidos en dos columnas distintas usando la coma como separador."
      ],
      "metadata": {
        "id": "rlHJReu10125"
      }
    },
    {
      "cell_type": "code",
      "source": [
        "split_Athlete= df_olim[\"Athlete\"].str.split(\",\",n=1,expand=True)\n",
        "split_Athlete.rename(columns={0:\"Apellidos\",1:\"Nombres\"})"
      ],
      "metadata": {
        "colab": {
          "base_uri": "https://localhost:8080/",
          "height": 424
        },
        "id": "eEwwX1L0H5Qu",
        "outputId": "e6971dfa-44e0-49c5-9615-6ce80cc43260"
      },
      "execution_count": null,
      "outputs": [
        {
          "output_type": "execute_result",
          "data": {
            "text/html": [
              "<div>\n",
              "<style scoped>\n",
              "    .dataframe tbody tr th:only-of-type {\n",
              "        vertical-align: middle;\n",
              "    }\n",
              "\n",
              "    .dataframe tbody tr th {\n",
              "        vertical-align: top;\n",
              "    }\n",
              "\n",
              "    .dataframe thead th {\n",
              "        text-align: right;\n",
              "    }\n",
              "</style>\n",
              "<table border=\"1\" class=\"dataframe\">\n",
              "  <thead>\n",
              "    <tr style=\"text-align: right;\">\n",
              "      <th></th>\n",
              "      <th>Apellidos</th>\n",
              "      <th>Nombres</th>\n",
              "    </tr>\n",
              "  </thead>\n",
              "  <tbody>\n",
              "    <tr>\n",
              "      <th>0</th>\n",
              "      <td>KÖHLER</td>\n",
              "      <td>Christa</td>\n",
              "    </tr>\n",
              "    <tr>\n",
              "      <th>1</th>\n",
              "      <td>KOSENKOV</td>\n",
              "      <td>Aleksandr</td>\n",
              "    </tr>\n",
              "    <tr>\n",
              "      <th>2</th>\n",
              "      <td>BOGGS</td>\n",
              "      <td>Philip George</td>\n",
              "    </tr>\n",
              "    <tr>\n",
              "      <th>3</th>\n",
              "      <td>CAGNOTTO</td>\n",
              "      <td>Giorgio Franco</td>\n",
              "    </tr>\n",
              "    <tr>\n",
              "      <th>4</th>\n",
              "      <td>WILSON</td>\n",
              "      <td>Deborah Keplar</td>\n",
              "    </tr>\n",
              "    <tr>\n",
              "      <th>...</th>\n",
              "      <td>...</td>\n",
              "      <td>...</td>\n",
              "    </tr>\n",
              "    <tr>\n",
              "      <th>15428</th>\n",
              "      <td>GUENOT</td>\n",
              "      <td>Christophe</td>\n",
              "    </tr>\n",
              "    <tr>\n",
              "      <th>15429</th>\n",
              "      <td>KVIRKELIA</td>\n",
              "      <td>Manuchar</td>\n",
              "    </tr>\n",
              "    <tr>\n",
              "      <th>15430</th>\n",
              "      <td>RAHIMOV</td>\n",
              "      <td>Vitaliy</td>\n",
              "    </tr>\n",
              "    <tr>\n",
              "      <th>15431</th>\n",
              "      <td>GUENOT</td>\n",
              "      <td>Steeve</td>\n",
              "    </tr>\n",
              "    <tr>\n",
              "      <th>15432</th>\n",
              "      <td>LOPEZ</td>\n",
              "      <td>Mijain</td>\n",
              "    </tr>\n",
              "  </tbody>\n",
              "</table>\n",
              "<p>15433 rows × 2 columns</p>\n",
              "</div>"
            ],
            "text/plain": [
              "       Apellidos          Nombres\n",
              "0         KÖHLER          Christa\n",
              "1       KOSENKOV        Aleksandr\n",
              "2          BOGGS    Philip George\n",
              "3       CAGNOTTO   Giorgio Franco\n",
              "4         WILSON   Deborah Keplar\n",
              "...          ...              ...\n",
              "15428     GUENOT       Christophe\n",
              "15429  KVIRKELIA         Manuchar\n",
              "15430    RAHIMOV          Vitaliy\n",
              "15431     GUENOT           Steeve\n",
              "15432      LOPEZ           Mijain\n",
              "\n",
              "[15433 rows x 2 columns]"
            ]
          },
          "metadata": {},
          "execution_count": 99
        }
      ]
    },
    {
      "cell_type": "markdown",
      "source": [
        "**Solución 3**\n",
        "\n",
        "Obtener medidas resumen del conjunto de datos. ¿Cuál es el país que ganó más medallas?"
      ],
      "metadata": {
        "id": "k-jqQghizgB0"
      }
    },
    {
      "cell_type": "code",
      "source": [
        "df_olim[[\"Country\"]].describe() #leer comentario en siguiente casilla. "
      ],
      "metadata": {
        "colab": {
          "base_uri": "https://localhost:8080/",
          "height": 175
        },
        "id": "95BX90zWzl_t",
        "outputId": "0ac29287-fa0d-444f-a01e-de6fd9c9e3e7"
      },
      "execution_count": null,
      "outputs": [
        {
          "output_type": "execute_result",
          "data": {
            "text/html": [
              "<div>\n",
              "<style scoped>\n",
              "    .dataframe tbody tr th:only-of-type {\n",
              "        vertical-align: middle;\n",
              "    }\n",
              "\n",
              "    .dataframe tbody tr th {\n",
              "        vertical-align: top;\n",
              "    }\n",
              "\n",
              "    .dataframe thead th {\n",
              "        text-align: right;\n",
              "    }\n",
              "</style>\n",
              "<table border=\"1\" class=\"dataframe\">\n",
              "  <thead>\n",
              "    <tr style=\"text-align: right;\">\n",
              "      <th></th>\n",
              "      <th>Country</th>\n",
              "    </tr>\n",
              "  </thead>\n",
              "  <tbody>\n",
              "    <tr>\n",
              "      <th>count</th>\n",
              "      <td>15316</td>\n",
              "    </tr>\n",
              "    <tr>\n",
              "      <th>unique</th>\n",
              "      <td>127</td>\n",
              "    </tr>\n",
              "    <tr>\n",
              "      <th>top</th>\n",
              "      <td>United States</td>\n",
              "    </tr>\n",
              "    <tr>\n",
              "      <th>freq</th>\n",
              "      <td>1992</td>\n",
              "    </tr>\n",
              "  </tbody>\n",
              "</table>\n",
              "</div>"
            ],
            "text/plain": [
              "              Country\n",
              "count           15316\n",
              "unique            127\n",
              "top     United States\n",
              "freq             1992"
            ]
          },
          "metadata": {},
          "execution_count": 68
        }
      ]
    },
    {
      "cell_type": "markdown",
      "source": [
        "**Estados unidos es el país con más medallas, no sé si aplique esta función, porque sé que es para columnas númericas, sin embargo me dio ese resultado y quedé inquieta. Me puede retroalimentar por el Discord por favor**"
      ],
      "metadata": {
        "id": "aseabV3pd_d6"
      }
    },
    {
      "cell_type": "markdown",
      "source": [
        "**Solución 4**\n",
        "\n",
        "Construir una tabla que muestre cuántas medallas obtuvieron los hombres en total en cada año que se realizó el evento."
      ],
      "metadata": {
        "id": "dePiD9t5v3f0"
      }
    },
    {
      "cell_type": "code",
      "source": [
        "a=df_olim[[\"Gender\",\"Year\",\"Medal\"]]\n",
        "a=a[a[\"Gender\"]==\"Men\"]\n",
        "a"
      ],
      "metadata": {
        "colab": {
          "base_uri": "https://localhost:8080/",
          "height": 424
        },
        "id": "S5mRFhv8rfzu",
        "outputId": "e8daf793-77e7-4c35-d7a7-1e2b4a4d158e"
      },
      "execution_count": null,
      "outputs": [
        {
          "output_type": "execute_result",
          "data": {
            "text/html": [
              "<div>\n",
              "<style scoped>\n",
              "    .dataframe tbody tr th:only-of-type {\n",
              "        vertical-align: middle;\n",
              "    }\n",
              "\n",
              "    .dataframe tbody tr th {\n",
              "        vertical-align: top;\n",
              "    }\n",
              "\n",
              "    .dataframe thead th {\n",
              "        text-align: right;\n",
              "    }\n",
              "</style>\n",
              "<table border=\"1\" class=\"dataframe\">\n",
              "  <thead>\n",
              "    <tr style=\"text-align: right;\">\n",
              "      <th></th>\n",
              "      <th>Gender</th>\n",
              "      <th>Year</th>\n",
              "      <th>Medal</th>\n",
              "    </tr>\n",
              "  </thead>\n",
              "  <tbody>\n",
              "    <tr>\n",
              "      <th>1</th>\n",
              "      <td>Men</td>\n",
              "      <td>1976.0</td>\n",
              "      <td>Bronze</td>\n",
              "    </tr>\n",
              "    <tr>\n",
              "      <th>2</th>\n",
              "      <td>Men</td>\n",
              "      <td>1976.0</td>\n",
              "      <td>Gold</td>\n",
              "    </tr>\n",
              "    <tr>\n",
              "      <th>3</th>\n",
              "      <td>Men</td>\n",
              "      <td>1976.0</td>\n",
              "      <td>Silver</td>\n",
              "    </tr>\n",
              "    <tr>\n",
              "      <th>5</th>\n",
              "      <td>Men</td>\n",
              "      <td>1976.0</td>\n",
              "      <td>Silver</td>\n",
              "    </tr>\n",
              "    <tr>\n",
              "      <th>8</th>\n",
              "      <td>Men</td>\n",
              "      <td>1976.0</td>\n",
              "      <td>Gold</td>\n",
              "    </tr>\n",
              "    <tr>\n",
              "      <th>...</th>\n",
              "      <td>...</td>\n",
              "      <td>...</td>\n",
              "      <td>...</td>\n",
              "    </tr>\n",
              "    <tr>\n",
              "      <th>15428</th>\n",
              "      <td>Men</td>\n",
              "      <td>2008.0</td>\n",
              "      <td>Bronze</td>\n",
              "    </tr>\n",
              "    <tr>\n",
              "      <th>15429</th>\n",
              "      <td>Men</td>\n",
              "      <td>2008.0</td>\n",
              "      <td>Gold</td>\n",
              "    </tr>\n",
              "    <tr>\n",
              "      <th>15430</th>\n",
              "      <td>Men</td>\n",
              "      <td>2008.0</td>\n",
              "      <td>Silver</td>\n",
              "    </tr>\n",
              "    <tr>\n",
              "      <th>15431</th>\n",
              "      <td>Men</td>\n",
              "      <td>2008.0</td>\n",
              "      <td>Gold</td>\n",
              "    </tr>\n",
              "    <tr>\n",
              "      <th>15432</th>\n",
              "      <td>Men</td>\n",
              "      <td>2008.0</td>\n",
              "      <td>Gold</td>\n",
              "    </tr>\n",
              "  </tbody>\n",
              "</table>\n",
              "<p>9388 rows × 3 columns</p>\n",
              "</div>"
            ],
            "text/plain": [
              "      Gender    Year   Medal\n",
              "1        Men  1976.0  Bronze\n",
              "2        Men  1976.0    Gold\n",
              "3        Men  1976.0  Silver\n",
              "5        Men  1976.0  Silver\n",
              "8        Men  1976.0    Gold\n",
              "...      ...     ...     ...\n",
              "15428    Men  2008.0  Bronze\n",
              "15429    Men  2008.0    Gold\n",
              "15430    Men  2008.0  Silver\n",
              "15431    Men  2008.0    Gold\n",
              "15432    Men  2008.0    Gold\n",
              "\n",
              "[9388 rows x 3 columns]"
            ]
          },
          "metadata": {},
          "execution_count": 48
        }
      ]
    },
    {
      "cell_type": "code",
      "source": [
        "a.shape #Total de Medallas obtenidas por hombres"
      ],
      "metadata": {
        "colab": {
          "base_uri": "https://localhost:8080/"
        },
        "id": "c0ngDz1As20k",
        "outputId": "c5cc989e-49db-4069-f932-cde652afb7f0"
      },
      "execution_count": null,
      "outputs": [
        {
          "output_type": "execute_result",
          "data": {
            "text/plain": [
              "(9388, 3)"
            ]
          },
          "metadata": {},
          "execution_count": 50
        }
      ]
    }
  ]
}
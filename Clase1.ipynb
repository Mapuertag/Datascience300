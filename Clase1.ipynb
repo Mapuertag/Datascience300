{
  "nbformat": 4,
  "nbformat_minor": 0,
  "metadata": {
    "colab": {
      "name": "Clase1.ipynb",
      "provenance": [],
      "collapsed_sections": [],
      "authorship_tag": "ABX9TyM4uQOmVRXGHoY7HhhRTTZs",
      "include_colab_link": true
    },
    "kernelspec": {
      "name": "python3",
      "display_name": "Python 3"
    },
    "language_info": {
      "name": "python"
    }
  },
  "cells": [
    {
      "cell_type": "markdown",
      "metadata": {
        "id": "view-in-github",
        "colab_type": "text"
      },
      "source": [
        "<a href=\"https://colab.research.google.com/github/Mapuertag/Datascience300/blob/main/Clase1.ipynb\" target=\"_parent\"><img src=\"https://colab.research.google.com/assets/colab-badge.svg\" alt=\"Open In Colab\"/></a>"
      ]
    },
    {
      "cell_type": "markdown",
      "metadata": {
        "id": "LPPQqGrfqWq4"
      },
      "source": [
        "**Introducción**\n",
        "\n",
        "\n",
        "---\n",
        "Para manejar un código en Python, vamos a seguir las siguientes recomendaciones:\n",
        "1. Usar siempre minúsculas\n",
        "2. Se le puede añadir números\n",
        "3. Aparecerá error si no estan seguidos de la declaración de la variable con el número asignado: es decir luisa1(correcto) luisa 1 (incorrecto)\n",
        "\n",
        "En python hay varios tipos de datos compuestos y estan disponibles por defecto en los interpretes:\n",
        "\n",
        "1.\n",
        "2.\n",
        "3.\n",
        "4.\n",
        "\n",
        "**Diferencia entre constantes y variables**\n"
      ]
    },
    {
      "cell_type": "markdown",
      "metadata": {
        "id": "_0MSXw7j483j"
      },
      "source": [
        "**Tipos de conjuntos**: Son una colección de datos sin elementos que repiten"
      ]
    },
    {
      "cell_type": "code",
      "metadata": {
        "colab": {
          "base_uri": "https://localhost:8080/"
        },
        "id": "yc86cO6Y5MQO",
        "outputId": "db1fd2ed-efcd-4590-8d6b-3b2ee009b611"
      },
      "source": [
        "fru=\"pera\",\"manzana\",\"naranja\"\n",
        "color= \"morado\",\"blanco\",\"azul\"\n",
        "print(fru,color)"
      ],
      "execution_count": null,
      "outputs": [
        {
          "output_type": "stream",
          "name": "stdout",
          "text": [
            "('pera', 'manzana', 'naranja') ('morado', 'blanco', 'azul')\n"
          ]
        }
      ]
    },
    {
      "cell_type": "markdown",
      "metadata": {
        "id": "8rxr4rmT6G8i"
      },
      "source": [
        "**Tipo de listas** \n",
        "Las almacenan vectores, siempre empiezan a nombrarse desde el elemento cero(0). Apertir de allí empieza el conteo. Se usan corchetes\n",
        "Ejemplo de listas de Python:\n"
      ]
    },
    {
      "cell_type": "code",
      "metadata": {
        "colab": {
          "base_uri": "https://localhost:8080/"
        },
        "id": "20Q6z4647AqB",
        "outputId": "e751c1be-770e-417f-b730-8a331006aed4"
      },
      "source": [
        "ines=[\"5\",\"uva\",\"lila\",\"perro\",\"celular\",\"micro\",\"botella\",\"tetero\",\"10\"]\n",
        "print(Ines)\n",
        "fe=ines[5:7]\n",
        "\n",
        "print(fe)"
      ],
      "execution_count": null,
      "outputs": [
        {
          "output_type": "stream",
          "name": "stdout",
          "text": [
            "['5', 'uva', 'lila', 'perro', 'celular', 'micro', 'botella', 'tetero', '10']\n",
            "['micro', 'botella']\n"
          ]
        }
      ]
    },
    {
      "cell_type": "markdown",
      "metadata": {
        "id": "iVg3iNiG8snj"
      },
      "source": [
        "**Tipo Tuplas**\n",
        "Es una lista que no se puede modificar después de la creación de esta: Tuplas anidadas. Agrupación (Tuplas). Generalmente se usa parentesis \n",
        "\n"
      ]
    },
    {
      "cell_type": "code",
      "metadata": {
        "colab": {
          "base_uri": "https://localhost:8080/"
        },
        "id": "U-SvV4iy9Sm-",
        "outputId": "605064a0-1760-4004-827f-cda2125ade07"
      },
      "source": [
        "tupla=23,28,\"hello\"\n",
        "print(tupla)\n",
        "otra=tupla,(1,2,3,4)\n",
        "print(otra)"
      ],
      "execution_count": null,
      "outputs": [
        {
          "output_type": "stream",
          "name": "stdout",
          "text": [
            "(23, 28, 'hello')\n",
            "((23, 28, 'hello'), (1, 2, 3, 4))\n"
          ]
        }
      ]
    },
    {
      "cell_type": "markdown",
      "metadata": {
        "id": "5VMqkWDg9ojH"
      },
      "source": [
        "**Tipo Diccionarios**\n",
        "Define los datos uno a uno entre un campo (ID-Identificador-Clave) y un valor\n"
      ]
    },
    {
      "cell_type": "code",
      "metadata": {
        "id": "ywee2Pm298F3"
      },
      "source": [
        "datos_b={\n",
        "\"nombres\":\"Diana\"\n",
        "\"apellidos\":\"Perea\"\n",
        "\"cedula\":\"2160999\"\n",
        "\"est_civil\":\"viuda\"\n",
        "\"lugar_nacimiento\": \"Neiva\"\n",
        "\"fecha_nacimiento\":\"24/12/1980\"\n",
        "}\n",
        "\n",
        "print(\"Id del diccionario\",datos_b.keys())\n",
        "print(\"Id del diccionario\",datos_b.value())\n",
        "print(\"Id del diccionario\",datos_b.items())\n",
        "print(\"Id del diccionario\",datos_b.datos_())\n",
        "\n"
      ],
      "execution_count": null,
      "outputs": []
    },
    {
      "cell_type": "code",
      "metadata": {
        "id": "iM6zPXIhCBAx",
        "colab": {
          "base_uri": "https://localhost:8080/"
        },
        "outputId": "51296f96-e52e-4908-afbf-c9ba0516be67"
      },
      "source": [
        "zapatos_0={}\n",
        "zapatos_0[\"talla\"]=\"grande\"\n",
        "zapatos_0[\"color\"]=\"rojo\"\n",
        "zapatos_0[\"material\"]=\"cuero\"\n",
        "zapatos_0[\"tacón\"]=\"alto\"\n",
        "zapatos_0[\"precio\"]=90\n",
        "\n",
        "zapatos_1={}\n",
        "zapatos_1[\"talla\"]=\"medio\"\n",
        "zapatos_1[\"color\"]=\"negro\"\n",
        "zapatos_1[\"material\"]=\"sintetico\"\n",
        "zapatos_1[\"tacón\"]=\"plataforma\"\n",
        "zapatos_1[\"precio\"]=60\n",
        "\n",
        "zapatos_2={}\n",
        "zapatos_2[\"talla\"]=\"pequeño\"\n",
        "zapatos_2[\"color\"]=\"blanco\"\n",
        "zapatos_2[\"material\"]=\"tela\"\n",
        "zapatos_2[\"tacón\"]=\"plano\"\n",
        "zapatos_2[\"precio\"]=30\n",
        "print(zapatos_0)\n",
        "print(zapatos_1)\n",
        "print(zapatos_2)\n",
        "\n",
        "compra0=zapatos_0[\"precio\"]\n",
        "compra1=zapatos_1[\"precio\"]\n",
        "compra2=zapatos_2[\"precio\"]\n",
        "compratotal=compra0+compra1+compra2\n",
        "\n",
        "print(\"la compra total fue de:\",compratotal)\n",
        "print(\"la compra total fue de:\"+\" \"+str(compratotal))\n",
        "\n",
        "\n",
        "\n"
      ],
      "execution_count": 15,
      "outputs": [
        {
          "output_type": "stream",
          "name": "stdout",
          "text": [
            "{'talla': 'grande', 'color': 'rojo', 'material': 'cuero', 'tacón': 'alto', 'precio': 90}\n",
            "{'talla': 'medio', 'color': 'negro', 'material': 'sintetico', 'tacón': 'plataforma', 'precio': 60}\n",
            "{'talla': 'pequeño', 'color': 'blanco', 'material': 'tela', 'tacón': 'plano', 'precio': 30}\n",
            "la compra total fue de: 180\n",
            "la compra total fue de: 180\n"
          ]
        }
      ]
    }
  ]
}
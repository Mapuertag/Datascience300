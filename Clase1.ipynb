{
  "nbformat": 4,
  "nbformat_minor": 0,
  "metadata": {
    "colab": {
      "name": "Clase1.ipynb",
      "provenance": [],
      "collapsed_sections": [],
      "authorship_tag": "ABX9TyOgBQMldF5DYM7fZDf9J+YC",
      "include_colab_link": true
    },
    "kernelspec": {
      "name": "python3",
      "display_name": "Python 3"
    },
    "language_info": {
      "name": "python"
    }
  },
  "cells": [
    {
      "cell_type": "markdown",
      "metadata": {
        "id": "view-in-github",
        "colab_type": "text"
      },
      "source": [
        "<a href=\"https://colab.research.google.com/github/Mapuertag/Datascience300/blob/main/Clase1.ipynb\" target=\"_parent\"><img src=\"https://colab.research.google.com/assets/colab-badge.svg\" alt=\"Open In Colab\"/></a>"
      ]
    },
    {
      "cell_type": "markdown",
      "metadata": {
        "id": "LPPQqGrfqWq4"
      },
      "source": [
        "**Introducción**\n",
        "\n",
        "\n",
        "---\n",
        "Para manejar un código en Python, vamos a seguir las siguientes recomendaciones:\n",
        "1. Usar siempre minúsculas\n",
        "2. Se le puede añadir números\n",
        "3. Aparecerá error si no estan seguidos de la declaración de la variable con el número asignado: es decir luisa1(correcto) luisa 1 (incorrecto)\n",
        "\n",
        "En python hay varios tipos de datos compuestos y estan disponibles por defecto en los interpretes:\n",
        "\n",
        "1. Númericos\n",
        "2. Secuencias\n",
        "3. Mapeos\n",
        "4. Conjuntos usados para agrupar otros valores.\n",
        "\n",
        "**Diferencia entre constantes y variables**: En mátematicas llamamos constante a una magnitud que no cambia con el paso del tiempo. Ejemplo: Contabilidad: Gastos Fijos_ Muebles de oficina Ejemplo 2: 6\n",
        "\n",
        "Por otro lado, el concepto de variable, como la cantidad que es susceptible a tomar distintos valores númericos. Ejemplo:\n",
        "\n",
        "\n"
      ]
    },
    {
      "cell_type": "code",
      "metadata": {
        "colab": {
          "base_uri": "https://localhost:8080/"
        },
        "id": "wTuP4jG8V_fQ",
        "outputId": "89bd80d0-7f56-4bbe-b710-70781df7214b"
      },
      "source": [
        "x=80\n",
        "print(x)\n"
      ],
      "execution_count": 1,
      "outputs": [
        {
          "output_type": "stream",
          "name": "stdout",
          "text": [
            "80\n"
          ]
        }
      ]
    },
    {
      "cell_type": "markdown",
      "metadata": {
        "id": "ENLbdOjfWaMG"
      },
      "source": [
        "**Tipos de datos**:\n",
        "\n",
        "**Enteros**:\n",
        "\n",
        "Son los números que no tienes decimales Pueden ser positivos y negativos\n",
        "\n",
        "\n",
        "\n",
        "\n"
      ]
    },
    {
      "cell_type": "code",
      "metadata": {
        "colab": {
          "base_uri": "https://localhost:8080/"
        },
        "id": "SD3x7e9hWuor",
        "outputId": "38576b5f-431b-42df-cd31-8233fcda520f"
      },
      "source": [
        "a=int(3.964)\n",
        "print(a,type(a))"
      ],
      "execution_count": 2,
      "outputs": [
        {
          "output_type": "stream",
          "name": "stdout",
          "text": [
            "3 <class 'int'>\n"
          ]
        }
      ]
    },
    {
      "cell_type": "markdown",
      "metadata": {
        "id": "OhgM65sGXFw0"
      },
      "source": [
        "El comando int es para hacer alusión a número enteros. A parte el comando float, permite valores con decimales."
      ]
    },
    {
      "cell_type": "code",
      "metadata": {
        "colab": {
          "base_uri": "https://localhost:8080/"
        },
        "id": "kZPLw-dmXKev",
        "outputId": "17c5f7ee-da4a-41ff-da5a-5f6928cb4ed6"
      },
      "source": [
        "b=float(8.23)\n",
        "print(b,type (b))"
      ],
      "execution_count": 3,
      "outputs": [
        {
          "output_type": "stream",
          "name": "stdout",
          "text": [
            "8.23 <class 'float'>\n"
          ]
        }
      ]
    },
    {
      "cell_type": "markdown",
      "metadata": {
        "id": "1MGsfJ7SXfen"
      },
      "source": [
        "**Tipo cadena**:\n",
        "Las cadenas son texto encerrado entre comillas (Simples o dobles) y se pueden conformar de diferentes caracteres (Númericos, Albéticos, Especiales #$+*%). Tener en cuenta, las cadenas admiten operadores como la suma y la resta. (Variable String)\n"
      ]
    },
    {
      "cell_type": "code",
      "metadata": {
        "colab": {
          "base_uri": "https://localhost:8080/"
        },
        "id": "LFatv-voX1C8",
        "outputId": "1f5a4e70-9cbf-42ee-a707-31d89d246489"
      },
      "source": [
        "val2=\"Hola Mundo\"\n",
        "print(val2)\n",
        "val1=\"Luisa\"\n",
        "print(val1)"
      ],
      "execution_count": 4,
      "outputs": [
        {
          "output_type": "stream",
          "name": "stdout",
          "text": [
            "Hola Mundo\n",
            "Luisa\n"
          ]
        }
      ]
    },
    {
      "cell_type": "code",
      "metadata": {
        "colab": {
          "base_uri": "https://localhost:8080/"
        },
        "id": "P6BpQGFyYETX",
        "outputId": "ce1df153-8115-4c5d-f254-f4e6ba851052"
      },
      "source": [
        "n=\"Aprender\"\n",
        "z=\"Python\"\n",
        "w=\"Aprender Python\"\n",
        "nz=n+\" \"+z\n",
        "print(w)\n",
        "\n",
        "q=\"5\"\n",
        "p=\"2\"\n",
        "b=int(q)\n",
        "c=int(p)\n",
        "print(b-c)"
      ],
      "execution_count": 5,
      "outputs": [
        {
          "output_type": "stream",
          "name": "stdout",
          "text": [
            "Aprender Python\n",
            "3\n"
          ]
        }
      ]
    },
    {
      "cell_type": "markdown",
      "metadata": {
        "id": "OPp2YJPIYLYO"
      },
      "source": [
        "**Tipos Booleanos**: Este tipo de variale solo tendrá un valor de Verdadero o Falso. Nota: Son valores muy usados en condiciones y bucles."
      ]
    },
    {
      "cell_type": "code",
      "metadata": {
        "colab": {
          "base_uri": "https://localhost:8080/"
        },
        "id": "ishYgxs9YWXb",
        "outputId": "36bf60b1-1116-4a02-fbe6-8ca367b125c8"
      },
      "source": [
        "lola=True\n",
        "print(\"El valor es verdadero:\",lola,\", el cual es de tipo\", type(lola))"
      ],
      "execution_count": 6,
      "outputs": [
        {
          "output_type": "stream",
          "name": "stdout",
          "text": [
            "El valor es verdadero: True , el cual es de tipo <class 'bool'>\n"
          ]
        }
      ]
    },
    {
      "cell_type": "code",
      "metadata": {
        "id": "DxHCyf_pYeCe"
      },
      "source": [
        "Python cuenta con tipos de datos que admiten colecciones:\n",
        "\n",
        "1. Listas\n",
        "2. Tuplas\n",
        "3. Diccionarios"
      ],
      "execution_count": null,
      "outputs": []
    },
    {
      "cell_type": "markdown",
      "metadata": {
        "id": "_0MSXw7j483j"
      },
      "source": [
        "**Tipos de conjuntos**: Son una colección de datos sin elementos que repiten"
      ]
    },
    {
      "cell_type": "code",
      "metadata": {
        "colab": {
          "base_uri": "https://localhost:8080/"
        },
        "id": "yc86cO6Y5MQO",
        "outputId": "db1fd2ed-efcd-4590-8d6b-3b2ee009b611"
      },
      "source": [
        "fru=\"pera\",\"manzana\",\"naranja\"\n",
        "color= \"morado\",\"blanco\",\"azul\"\n",
        "print(fru,color)"
      ],
      "execution_count": null,
      "outputs": [
        {
          "output_type": "stream",
          "name": "stdout",
          "text": [
            "('pera', 'manzana', 'naranja') ('morado', 'blanco', 'azul')\n"
          ]
        }
      ]
    },
    {
      "cell_type": "markdown",
      "metadata": {
        "id": "8rxr4rmT6G8i"
      },
      "source": [
        "**Tipo de listas** \n",
        "Las almacenan vectores, siempre empiezan a nombrarse desde el elemento cero(0). Apertir de allí empieza el conteo. Se usan corchetes\n",
        "Ejemplo de listas de Python:\n"
      ]
    },
    {
      "cell_type": "code",
      "metadata": {
        "colab": {
          "base_uri": "https://localhost:8080/"
        },
        "id": "20Q6z4647AqB",
        "outputId": "e751c1be-770e-417f-b730-8a331006aed4"
      },
      "source": [
        "ines=[\"5\",\"uva\",\"lila\",\"perro\",\"celular\",\"micro\",\"botella\",\"tetero\",\"10\"]\n",
        "print(Ines)\n",
        "fe=ines[5:7]\n",
        "\n",
        "print(fe)"
      ],
      "execution_count": null,
      "outputs": [
        {
          "output_type": "stream",
          "name": "stdout",
          "text": [
            "['5', 'uva', 'lila', 'perro', 'celular', 'micro', 'botella', 'tetero', '10']\n",
            "['micro', 'botella']\n"
          ]
        }
      ]
    },
    {
      "cell_type": "markdown",
      "metadata": {
        "id": "iVg3iNiG8snj"
      },
      "source": [
        "**Tipo Tuplas**\n",
        "Es una lista que no se puede modificar después de la creación de esta: Tuplas anidadas. Agrupación (Tuplas). Generalmente se usa parentesis \n",
        "\n"
      ]
    },
    {
      "cell_type": "code",
      "metadata": {
        "colab": {
          "base_uri": "https://localhost:8080/"
        },
        "id": "U-SvV4iy9Sm-",
        "outputId": "605064a0-1760-4004-827f-cda2125ade07"
      },
      "source": [
        "tupla=23,28,\"hello\"\n",
        "print(tupla)\n",
        "otra=tupla,(1,2,3,4)\n",
        "print(otra)"
      ],
      "execution_count": null,
      "outputs": [
        {
          "output_type": "stream",
          "name": "stdout",
          "text": [
            "(23, 28, 'hello')\n",
            "((23, 28, 'hello'), (1, 2, 3, 4))\n"
          ]
        }
      ]
    },
    {
      "cell_type": "markdown",
      "metadata": {
        "id": "5VMqkWDg9ojH"
      },
      "source": [
        "**Tipo Diccionarios**\n",
        "Define los datos uno a uno entre un campo (ID-Identificador-Clave) y un valor\n"
      ]
    },
    {
      "cell_type": "code",
      "metadata": {
        "id": "ywee2Pm298F3",
        "colab": {
          "base_uri": "https://localhost:8080/"
        },
        "outputId": "942b1226-7def-451c-8a69-041421d5a556"
      },
      "source": [
        "datos_b={\n",
        "    \"nombres\":\"Diana\",\n",
        "    \"apellidos\":\"Perea\",\n",
        "    \"cedula\":\"2345671\",\n",
        "    \"est_civil\":\"Viuda\",\n",
        "    \"lugar_nacimiento\":\"Neiva\",\n",
        "    \"fecha_nacimiento\":\"24/12/1980\",\n",
        "}\n",
        "\n",
        "print(\"ID del diccionario\", datos_b.keys())\n",
        "print(\"ID del diccionario\", datos_b.values())\n",
        "print(\"ID del diccionario\", datos_b.items())\n",
        "print(\"Fecha de Nacimiento de Diana:\", datos_b['fecha_nacimiento'])\n",
        "\n"
      ],
      "execution_count": 8,
      "outputs": [
        {
          "output_type": "stream",
          "name": "stdout",
          "text": [
            "ID del diccionario dict_keys(['nombres', 'apellidos', 'cedula', 'est_civil', 'lugar_nacimiento', 'fecha_nacimiento'])\n",
            "ID del diccionario dict_values(['Diana', 'Perea', '2345671', 'Viuda', 'Neiva', '24/12/1980'])\n",
            "ID del diccionario dict_items([('nombres', 'Diana'), ('apellidos', 'Perea'), ('cedula', '2345671'), ('est_civil', 'Viuda'), ('lugar_nacimiento', 'Neiva'), ('fecha_nacimiento', '24/12/1980')])\n",
            "Fecha de Nacimiento de Diana: 24/12/1980\n"
          ]
        }
      ]
    },
    {
      "cell_type": "markdown",
      "metadata": {
        "id": "fOh1cDjBZYf8"
      },
      "source": [
        "**Ejemplo práctico**:"
      ]
    },
    {
      "cell_type": "code",
      "metadata": {
        "id": "iM6zPXIhCBAx",
        "colab": {
          "base_uri": "https://localhost:8080/"
        },
        "outputId": "4c13f8ee-bd4f-449a-8eee-46f18223fa52"
      },
      "source": [
        "zapatos_0={}\n",
        "zapatos_0[\"talla\"]=\"grande\"\n",
        "zapatos_0[\"color\"]=\"rojo\"\n",
        "zapatos_0[\"material\"]=\"cuero\"\n",
        "zapatos_0[\"tacón\"]=\"alto\"\n",
        "zapatos_0[\"precio\"]=90\n",
        "\n",
        "zapatos_1={}\n",
        "zapatos_1[\"talla\"]=\"medio\"\n",
        "zapatos_1[\"color\"]=\"negro\"\n",
        "zapatos_1[\"material\"]=\"sintetico\"\n",
        "zapatos_1[\"tacón\"]=\"plataforma\"\n",
        "zapatos_1[\"precio\"]=60\n",
        "\n",
        "zapatos_2={}\n",
        "zapatos_2[\"talla\"]=\"pequeño\"\n",
        "zapatos_2[\"color\"]=\"blanco\"\n",
        "zapatos_2[\"material\"]=\"tela\"\n",
        "zapatos_2[\"tacón\"]=\"plano\"\n",
        "zapatos_2[\"precio\"]=30\n",
        "print(zapatos_0)\n",
        "print(zapatos_1)\n",
        "print(zapatos_2)\n",
        "\n",
        "compra0=zapatos_0[\"precio\"]\n",
        "compra1=zapatos_1[\"precio\"]\n",
        "compra2=zapatos_2[\"precio\"]\n",
        "compratotal=compra0+compra1+compra2\n",
        "\n",
        "print(\"la compra total fue de:\",compratotal)\n",
        "print(\"la compra total fue de:\"+\" \"+str(compratotal))\n"
      ],
      "execution_count": 9,
      "outputs": [
        {
          "output_type": "stream",
          "name": "stdout",
          "text": [
            "{'talla': 'grande', 'color': 'rojo', 'material': 'cuero', 'tacón': 'alto', 'precio': 90}\n",
            "{'talla': 'medio', 'color': 'negro', 'material': 'sintetico', 'tacón': 'plataforma', 'precio': 60}\n",
            "{'talla': 'pequeño', 'color': 'blanco', 'material': 'tela', 'tacón': 'plano', 'precio': 30}\n",
            "la compra total fue de: 180\n",
            "la compra total fue de: 180\n"
          ]
        }
      ]
    }
  ]
}
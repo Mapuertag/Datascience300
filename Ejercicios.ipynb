{
  "nbformat": 4,
  "nbformat_minor": 0,
  "metadata": {
    "colab": {
      "name": "Ejercicios.ipynb",
      "provenance": [],
      "collapsed_sections": [],
      "authorship_tag": "ABX9TyPhMhb0qFiGtQb0WnaEh4kW",
      "include_colab_link": true
    },
    "kernelspec": {
      "name": "python3",
      "display_name": "Python 3"
    },
    "language_info": {
      "name": "python"
    }
  },
  "cells": [
    {
      "cell_type": "markdown",
      "metadata": {
        "id": "view-in-github",
        "colab_type": "text"
      },
      "source": [
        "<a href=\"https://colab.research.google.com/github/Mapuertag/Datascience300/blob/main/Ejercicios.ipynb\" target=\"_parent\"><img src=\"https://colab.research.google.com/assets/colab-badge.svg\" alt=\"Open In Colab\"/></a>"
      ]
    },
    {
      "cell_type": "code",
      "metadata": {
        "colab": {
          "base_uri": "https://localhost:8080/"
        },
        "id": "E7KcNT8I86Mf",
        "outputId": "ee40d1b9-ddd6-4f02-9dfc-6392d0921fe4"
      },
      "source": [
        "from google.colab import drive\n",
        "import os\n",
        "drive.mount('/content/gdrive')\n",
        "import os\n",
        "print(os.getcwd())\n",
        "#os.chdir(\"/content/gdrive/MyDrive\")\n",
        "print(os.getcwd())\n"
      ],
      "execution_count": null,
      "outputs": [
        {
          "output_type": "stream",
          "name": "stdout",
          "text": [
            "Mounted at /content/gdrive\n",
            "/content\n",
            "/content\n"
          ]
        }
      ]
    },
    {
      "cell_type": "code",
      "metadata": {
        "colab": {
          "base_uri": "https://localhost:8080/"
        },
        "id": "yKxRTLCeBvQc",
        "outputId": "c20ac82b-58c8-4b3f-e6ee-9bcd2d4f0f6c"
      },
      "source": [
        "%cd \"/content/gdrive/MyDrive/UNIVERSIDAD/Practicas\""
      ],
      "execution_count": null,
      "outputs": [
        {
          "output_type": "stream",
          "name": "stdout",
          "text": [
            "/content/gdrive/MyDrive/UNIVERSIDAD/Practicas\n"
          ]
        }
      ]
    },
    {
      "cell_type": "markdown",
      "metadata": {
        "id": "_ffJYTbqq7kv"
      },
      "source": [
        "## Ejercicio 1\n",
        "\n",
        "Creen un vector a entre 5 y 6 con intervalo de 0.2 y guardenlo en formato datos.npy y luego carguenlo con nombre b y muéstrelo"
      ]
    },
    {
      "cell_type": "code",
      "metadata": {
        "colab": {
          "base_uri": "https://localhost:8080/"
        },
        "id": "MqOTqPLDtFBs",
        "outputId": "7669cc09-3502-4a3e-d3b9-f120c924c239"
      },
      "source": [
        "import numpy\n",
        "a=numpy.arange(5,6.1,0.2)\n",
        "print(a.tolist())\n",
        "a.tofile(\"datos.dat\")\n",
        "b=numpy.fromfile(\"datos.dat\")\n",
        "b\n"
      ],
      "execution_count": null,
      "outputs": [
        {
          "output_type": "stream",
          "name": "stdout",
          "text": [
            "[5.0, 5.2, 5.4, 5.6000000000000005, 5.800000000000001, 6.000000000000001]\n"
          ]
        },
        {
          "output_type": "execute_result",
          "data": {
            "text/plain": [
              "array([5. , 5.2, 5.4, 5.6, 5.8, 6. ])"
            ]
          },
          "metadata": {},
          "execution_count": 56
        }
      ]
    },
    {
      "cell_type": "markdown",
      "metadata": {
        "id": "4eh9R6VfeifQ"
      },
      "source": [
        "## Ejercicio 2\n",
        "\n",
        "Cree un una matriz A con ```np.array```\n",
        "\n",
        "$$\\begin{bmatrix} \n",
        "\t1 & 3 & 5 \\\\\n",
        "\t11 & 9 & 7\\\\\n",
        "\t13 & 15 & 17 \\\\\n",
        "\t\\end{bmatrix}$$\n",
        "\n",
        "Luego de eso utilize el metodo ```np.sort``` con  el argumento ```axis =1``` or ```axis=0```\n",
        "\n",
        "A que conclusiones llegan? "
      ]
    },
    {
      "cell_type": "code",
      "metadata": {
        "colab": {
          "base_uri": "https://localhost:8080/"
        },
        "id": "Q0XZtnqvuRmn",
        "outputId": "84f9faab-dcac-4e99-84ca-84dd65e44bf4"
      },
      "source": [
        "import numpy as np\n",
        "A=np.array([[1,3,-5],[11,9,5],[13,15,17]])\n",
        "B=np.sort(A, 0)\n",
        "C=np.sort(A, 1)\n",
        "print(\"Matriz A virgen\")\n",
        "print(A)\n",
        "print(\".....\")\n",
        "print(\"Matriz B, axis=0\")\n",
        "print(B)\n",
        "print(\".....\")\n",
        "print(\"Matriz C, axis=1\")\n",
        "print(C)\n"
      ],
      "execution_count": null,
      "outputs": [
        {
          "output_type": "stream",
          "name": "stdout",
          "text": [
            "Matriz A virgen\n",
            "[[ 1  3 -5]\n",
            " [11  9  5]\n",
            " [13 15 17]]\n",
            ".....\n",
            "Matriz B, axis=0\n",
            "[[ 1  3 -5]\n",
            " [11  9  5]\n",
            " [13 15 17]]\n",
            ".....\n",
            "Matriz C, axis=1\n",
            "[[-5  1  3]\n",
            " [ 5  9 11]\n",
            " [13 15 17]]\n"
          ]
        }
      ]
    },
    {
      "cell_type": "markdown",
      "metadata": {
        "id": "rc0XPOBDfn7W"
      },
      "source": [
        "## Ejercicio 3\n",
        "\n",
        "Cree una matriz de 3x3 B, como la siguiente:\n",
        "\n",
        "$$\\begin{bmatrix} \n",
        "\t9 & 1 & 2 \\\\\n",
        "\t1 & 9 & 5\\\\\n",
        "\t2 & 5 & 9 \\\\\n",
        "\t\\end{bmatrix}$$\n",
        "\n",
        "1. Convierta la matriz a un vector de 1x9\n",
        "2. Ordene de de menor a mayor el vector\n",
        "3. Aplique un filtro para extraer solo los numeros menores que 9"
      ]
    },
    {
      "cell_type": "code",
      "metadata": {
        "colab": {
          "base_uri": "https://localhost:8080/"
        },
        "id": "fU3sygTTXWt-",
        "outputId": "1b7fb009-0ce3-42a0-b588-edc854822705"
      },
      "source": [
        "import numpy as np\n",
        "B=np.array([[9,1,2],[1,9,15],[2,5,9],[2,5,9]])\n",
        "print(B)\n",
        "print(\".........................\")\n",
        "print(\"solucion 1\")\n",
        "v1=np.reshape(B, 12)\n",
        "print(v1)\n",
        "v2=np.sort(v1, 0)\n",
        "print(\".........................\")\n",
        "print(\"solucion 2\")\n",
        "print(v2)\n",
        "condicion=np.where(v1<9, 1, 0)\n",
        "v3=np.extract(condicion,v1)\n",
        "print(\".........................\")\n",
        "print(\"condicion\")\n",
        "print(condicion)\n",
        "print(\".........................\")\n",
        "print(\"solucion 3\")\n",
        "print(v3)"
      ],
      "execution_count": null,
      "outputs": [
        {
          "output_type": "stream",
          "name": "stdout",
          "text": [
            "[[ 9  1  2]\n",
            " [ 1  9 15]\n",
            " [ 2  5  9]\n",
            " [ 2  5  9]]\n",
            ".........................\n",
            "solucion 1\n",
            "[ 9  1  2  1  9 15  2  5  9  2  5  9]\n",
            ".........................\n",
            "solucion 2\n",
            "[ 1  1  2  2  2  5  5  9  9  9  9 15]\n",
            ".........................\n",
            "condicion\n",
            "[0 1 1 1 0 0 1 1 0 1 1 0]\n",
            ".........................\n",
            "solucion 3\n",
            "[1 2 1 2 5 2 5]\n"
          ]
        }
      ]
    },
    {
      "cell_type": "markdown",
      "metadata": {
        "id": "1WMBdIannhXq"
      },
      "source": [
        ""
      ]
    },
    {
      "cell_type": "markdown",
      "metadata": {
        "id": "Sb4p_CzrhQeP"
      },
      "source": [
        "## Ejercicio 4\n",
        "\n",
        "Cree una matriz de 3x3 C, como la siguiente:\n",
        "\n",
        "$$\\begin{bmatrix} \n",
        "\t1 & 4 & 7 \\\\\n",
        "\t2 & 5 & 8\\\\\n",
        "\t3 & 6 & 9 \\\\\n",
        "\t\\end{bmatrix}$$\n",
        "\n",
        "1. Calcule la media por cada columna\n",
        "2. Calcule la media por cada fila\n",
        "3. Obtenga la media por columnas dandole el doble de peso a la columna con mayores valores de la variable\n",
        "4. Calcule el percentil 25 por cada columna"
      ]
    },
    {
      "cell_type": "code",
      "metadata": {
        "colab": {
          "base_uri": "https://localhost:8080/"
        },
        "id": "xEq8YUhfnjJ7",
        "outputId": "3cc766ef-cf48-4d69-f031-76721e646378"
      },
      "source": [
        "import numpy as np\n",
        "C=np.array([[9,1,2,1],[1,9,15,2],[2,5,9,3],[2,5,9,4]])\n",
        "print(C)\n",
        "print(\".........................\")\n",
        "print(\"solucion 1\")\n",
        "C1=np.mean(C, 0)\n",
        "print(C1)\n",
        "print(\".........................\")\n",
        "print(\"solucion 2\")\n",
        "C2=np.mean(C, 1)\n",
        "print(C2)\n",
        "print(\".........................\")\n",
        "print(\"solucion 3\")\n",
        "C3=np.average( C, 0, weights=( 1,1,2,1)) # por favor explicar\n",
        "print(C3)\n",
        "print(\".........................\")\n",
        "print(\"solucion 4\")\n",
        "C4=np.percentile(C, 25, 0)\n",
        "print(C4)\n",
        "\n"
      ],
      "execution_count": null,
      "outputs": [
        {
          "output_type": "stream",
          "name": "stdout",
          "text": [
            "[[ 9  1  2  1]\n",
            " [ 1  9 15  2]\n",
            " [ 2  5  9  3]\n",
            " [ 2  5  9  4]]\n",
            ".........................\n",
            "solucion 1\n",
            "[3.5  5.   8.75 2.5 ]\n",
            ".........................\n",
            "solucion 2\n",
            "[3.25 6.75 4.75 5.  ]\n",
            ".........................\n",
            "solucion 3\n",
            "[3.2 5.  8.8 2.6]\n",
            ".........................\n",
            "solucion 4\n",
            "[1.75 4.   7.25 1.75]\n"
          ]
        }
      ]
    },
    {
      "cell_type": "markdown",
      "metadata": {
        "id": "xeN83eSTxWQg"
      },
      "source": [
        ""
      ]
    },
    {
      "cell_type": "markdown",
      "metadata": {
        "id": "PVlPe1LAl_5I"
      },
      "source": [
        "## Ejercicio 5\n",
        "\n",
        "Carguen la imagen data_science que se encuentra en el siguiente link: [texto del enlace](https://drive.google.com/file/d/1LoGybQ8t9g6orVp8Wh0uqU7BXY0kCzlh/view?usp=sharing) en la semana 1 del Bootcamp y realicen los siguientes procedimientos\n",
        "\n",
        "1. Muestrar la imagen tal como viene\n",
        "2. Averiguen que es un pixel y determinen cuantos pixeles tiene la imagen\n",
        "3. Recortar la imagen donde solo aparezca la palabra DATA\n",
        "4. Convertir la imagen a matriz y aplicar la funcion coseno\n",
        "5. Reemplazar los valores menores que 100 en la imagen original por 180 y graficar ¿Que observan, que modificaciones ocurrieron y porgque?. **Sugerencia:** *Busquen acerca de que es la escala RGB y seguro comprenderan mejor*"
      ]
    },
    {
      "cell_type": "code",
      "metadata": {
        "colab": {
          "base_uri": "https://localhost:8080/"
        },
        "id": "aTFiA6JPzL6m",
        "outputId": "62e6e3cb-2429-4d39-cfde-8933b7612e71"
      },
      "source": [
        "from google.colab import drive\n",
        "import os\n",
        "drive.mount('/content/gdrive',True)"
      ],
      "execution_count": null,
      "outputs": [
        {
          "output_type": "stream",
          "name": "stdout",
          "text": [
            "Mounted at /content/gdrive\n"
          ]
        }
      ]
    },
    {
      "cell_type": "markdown",
      "metadata": {
        "id": "CyyGSi33SolQ"
      },
      "source": [
        "### **Ejercicios Semana 2**\n",
        "\n",
        "\n"
      ]
    },
    {
      "cell_type": "markdown",
      "metadata": {
        "id": "I4j9xr8Rx5gD"
      },
      "source": [
        "## Ejercicio 1 : Listas\n",
        "\n",
        "Tienen la siguiente lista🏀⚾⚽🥤⭐\n",
        "\n",
        "```list1 = [10, 20, [300, 400, [5000, 6000], 500], 30, 40]```\n",
        "\n",
        "Se desea obtener el siguiente output **pero** usando solo el metódo ```append```:\n",
        "\n",
        "```[10, 20, [300, 400, [5000, 6000, 7000], 500], 30, 40]```"
      ]
    },
    {
      "cell_type": "code",
      "metadata": {
        "colab": {
          "base_uri": "https://localhost:8080/"
        },
        "id": "GB46YiHjaZl4",
        "outputId": "a4a4474f-6997-41be-b663-624324bdc281"
      },
      "source": [
        "mylist= [10, 20, [300, 400, [5000, 6000], 500], 30, 40]\n",
        "mylist[2][2].append(7000)\n",
        "print(mylist)"
      ],
      "execution_count": null,
      "outputs": [
        {
          "output_type": "stream",
          "name": "stdout",
          "text": [
            "[10, 20, [300, 400, [5000, 6000, 7000], 500], 30, 40]\n"
          ]
        }
      ]
    },
    {
      "cell_type": "markdown",
      "metadata": {
        "id": "e3xtcApf0kTI"
      },
      "source": [
        "## Ejercicio 2 : Sets\n",
        "Dados los siguientes conjuntos⛹✅☁⚽✨\n",
        "\n",
        "```s1 = {10, 20, 30, 40, 50}```\n",
        "\n",
        "```s2 = {30, 40, 50, 60, 70}```\n",
        "\n",
        "1. Como es posible obtener el siguiente output con alguno de los metódos vistos para sets\n",
        "\n",
        "```{40, 50, 30}```\n",
        "\n",
        "2. Como es posible obtener el siguiente output con alguno de los metódos vistos para sets\n",
        "\n",
        "```{70, 40, 10, 50, 20, 60, 30}```\n",
        "\n",
        "3. Extraer todos los elementos de s2 que no estan en s1"
      ]
    },
    {
      "cell_type": "code",
      "metadata": {
        "colab": {
          "base_uri": "https://localhost:8080/"
        },
        "id": "T-hgt6-QepqC",
        "outputId": "0e4ff985-9f81-4524-84fb-dd0b54160d54"
      },
      "source": [
        "s1 = {10, 20, 30, 40, 50}\n",
        "s2 = {30, 40, 50, 60, 70}\n",
        "print(\"solucion 1\")\n",
        "print(s1.intersection(s2))\n",
        "print(\"..................\")\n",
        "print(\"solucion 2\")\n",
        "print(s1.union(s2))\n",
        "print(\"..................\")\n",
        "print(\"solucion 3\")\n",
        "print(s2.symmetric_difference(s1))"
      ],
      "execution_count": null,
      "outputs": [
        {
          "output_type": "stream",
          "name": "stdout",
          "text": [
            "solucion 1\n",
            "{40, 50, 30}\n",
            "..................\n",
            "solucion 2\n",
            "{70, 40, 10, 50, 20, 60, 30}\n",
            "..................\n",
            "solucion 3\n",
            "{20, 70, 10, 60}\n"
          ]
        }
      ]
    },
    {
      "cell_type": "markdown",
      "metadata": {
        "id": "yuSx-Esu2bgC"
      },
      "source": [
        "## Ejercicio 3: Tuplas\n",
        "\n",
        "Dada la siguiente tupla✈⏰♒⛹\n",
        "\n",
        "```tupla=(10, 20, 30, 40, 50)```\n",
        "\n",
        "Responder:\n",
        "\n",
        "1. Ordenar la tupla de mayor a menor\n",
        "2. Extraer los valores de la tupla en las siguientes variables: a,b,c,d,e\n",
        "3. Ahora suponga que tiene la siguiente tupla: \n",
        "```tupla_d = (11, [22, 33], 44, 55)```\n",
        "Recordando el concepto de inmutabilidad de las tuplas, sería posible poder modificar el valor **22** por **222** o en este caso no se puede?. Justifiquen"
      ]
    },
    {
      "cell_type": "code",
      "metadata": {
        "id": "okAJuYW1pB36"
      },
      "source": [
        ""
      ],
      "execution_count": null,
      "outputs": []
    }
  ]
}
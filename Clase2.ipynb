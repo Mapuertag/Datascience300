{
  "nbformat": 4,
  "nbformat_minor": 0,
  "metadata": {
    "colab": {
      "name": "Untitled0.ipynb",
      "provenance": [],
      "authorship_tag": "ABX9TyNvtP3bA2GdiV6VPnGgDeVK",
      "include_colab_link": true
    },
    "kernelspec": {
      "name": "python3",
      "display_name": "Python 3"
    },
    "language_info": {
      "name": "python"
    }
  },
  "cells": [
    {
      "cell_type": "markdown",
      "metadata": {
        "id": "view-in-github",
        "colab_type": "text"
      },
      "source": [
        "<a href=\"https://colab.research.google.com/github/Mapuertag/Datascience300/blob/main/Clase2.ipynb\" target=\"_parent\"><img src=\"https://colab.research.google.com/assets/colab-badge.svg\" alt=\"Open In Colab\"/></a>"
      ]
    },
    {
      "cell_type": "code",
      "metadata": {
        "id": "ysu75O8yaynq"
      },
      "source": [
        ""
      ],
      "execution_count": null,
      "outputs": []
    },
    {
      "cell_type": "markdown",
      "metadata": {
        "id": "cuHBjkgta2JH"
      },
      "source": [
        "**Operadores aritméticos**:\n",
        "Los operadores permiten realizar diferentes procesos de cálculo en cualquier lenguaje de programación.\n",
        "\n",
        "Los operadores más básicos:\n",
        "\n",
        "1.Suma\n",
        "2.Resta\n",
        "3.Multiplicación\n",
        "4.División\n",
        "\n",
        "**Suma y resta**:\n",
        "\n",
        "Símbolo suma(+) el cual se utilizará em medio de la declaraci{on de las variables a operar.\n",
        "\n",
        "Símbolo resta(-)\n"
      ]
    },
    {
      "cell_type": "code",
      "metadata": {
        "colab": {
          "base_uri": "https://localhost:8080/"
        },
        "id": "JljWOL6ubOuV",
        "outputId": "5a06b815-3ab3-4b18-bed4-c59054c987f4"
      },
      "source": [
        "print(10-300)\n",
        "a=20\n",
        "b=35\n",
        "print(a-b)"
      ],
      "execution_count": 1,
      "outputs": [
        {
          "output_type": "stream",
          "name": "stdout",
          "text": [
            "-290\n",
            "-15\n"
          ]
        }
      ]
    },
    {
      "cell_type": "code",
      "metadata": {
        "colab": {
          "base_uri": "https://localhost:8080/"
        },
        "id": "wOHCfmPCbek9",
        "outputId": "84144747-c550-4e0e-8c60-f74ab70890e5"
      },
      "source": [
        "numero_botellas=12\n",
        "print(numero_botellas + 8)"
      ],
      "execution_count": 2,
      "outputs": [
        {
          "output_type": "stream",
          "name": "stdout",
          "text": [
            "20\n"
          ]
        }
      ]
    },
    {
      "cell_type": "code",
      "metadata": {
        "colab": {
          "base_uri": "https://localhost:8080/"
        },
        "id": "j1HQuNTNbhrw",
        "outputId": "a66c23dc-f41a-4588-f15c-54dda9538952"
      },
      "source": [
        "numero_botellas=12\n",
        "numero_botellas=numero_botellas + 8\n",
        "print(numero_botellas)"
      ],
      "execution_count": 3,
      "outputs": [
        {
          "output_type": "stream",
          "name": "stdout",
          "text": [
            "20\n"
          ]
        }
      ]
    },
    {
      "cell_type": "markdown",
      "metadata": {
        "id": "hjzW1hI_bl8Q"
      },
      "source": [
        "**Sumas entre los diferentes tipos de variables**:\n",
        "\n",
        "Recordemos los tipos de variables vistos en la clase ayer:\n",
        "\n",
        "1.Declaración de variables númericas enteros\n",
        "\n",
        "2.Flotantes(incorpora y flexibiliza los decimales)\n",
        "\n",
        "3.Tipo cadena\n",
        "\n"
      ]
    },
    {
      "cell_type": "code",
      "metadata": {
        "colab": {
          "base_uri": "https://localhost:8080/"
        },
        "id": "WbqGYADfbyWB",
        "outputId": "fc52e6ab-4365-49b9-9c06-6fdcc77f2bab"
      },
      "source": [
        "q1=100\n",
        "q2=24.5\n",
        "print(type(q1+q2))"
      ],
      "execution_count": 4,
      "outputs": [
        {
          "output_type": "stream",
          "name": "stdout",
          "text": [
            "<class 'float'>\n"
          ]
        }
      ]
    },
    {
      "cell_type": "code",
      "metadata": {
        "colab": {
          "base_uri": "https://localhost:8080/"
        },
        "id": "E7kxHDKgb4so",
        "outputId": "37d1f695-3817-4db2-e4b7-e83914503c9e"
      },
      "source": [
        "v1=\"quiero\"\n",
        "v2=\"un celular\"\n",
        "v3=v1+\" \"+v2\n",
        "print(v1+\" \"+v2)"
      ],
      "execution_count": 5,
      "outputs": [
        {
          "output_type": "stream",
          "name": "stdout",
          "text": [
            "quiero un celular\n"
          ]
        }
      ]
    },
    {
      "cell_type": "code",
      "metadata": {
        "colab": {
          "base_uri": "https://localhost:8080/"
        },
        "id": "XteWVL_Zb8Vv",
        "outputId": "88c94c6e-4eb5-4272-8a0f-5eb68ed0cfcd"
      },
      "source": [
        "xq2=235\n",
        "xq3=400\n",
        "print(xq2-xq3)\n",
        "\n",
        "xq2=24.66\n",
        "xq3=4\n",
        "print(type(xq2-xq3))"
      ],
      "execution_count": 6,
      "outputs": [
        {
          "output_type": "stream",
          "name": "stdout",
          "text": [
            "-165\n",
            "<class 'float'>\n"
          ]
        }
      ]
    },
    {
      "cell_type": "markdown",
      "metadata": {
        "id": "Y2J8UhBpcAqL"
      },
      "source": [
        "**IMPORTANTE** La resta no funciona directamente para variable tipo cadena. (Ejemplo de error)"
      ]
    },
    {
      "cell_type": "code",
      "metadata": {
        "colab": {
          "base_uri": "https://localhost:8080/",
          "height": 202
        },
        "id": "3maGD5AdcEDz",
        "outputId": "7398a581-062c-4ac9-d8b6-f545113486bc"
      },
      "source": [
        "v1=\"5\"\n",
        "v2=\"2.3\"\n",
        "\n",
        "print(str(v1-v2))"
      ],
      "execution_count": 7,
      "outputs": [
        {
          "output_type": "error",
          "ename": "TypeError",
          "evalue": "ignored",
          "traceback": [
            "\u001b[0;31m---------------------------------------------------------------------------\u001b[0m",
            "\u001b[0;31mTypeError\u001b[0m                                 Traceback (most recent call last)",
            "\u001b[0;32m<ipython-input-7-ff3b625be7a1>\u001b[0m in \u001b[0;36m<module>\u001b[0;34m()\u001b[0m\n\u001b[1;32m      2\u001b[0m \u001b[0mv2\u001b[0m\u001b[0;34m=\u001b[0m\u001b[0;34m\"2.3\"\u001b[0m\u001b[0;34m\u001b[0m\u001b[0;34m\u001b[0m\u001b[0m\n\u001b[1;32m      3\u001b[0m \u001b[0;34m\u001b[0m\u001b[0m\n\u001b[0;32m----> 4\u001b[0;31m \u001b[0mprint\u001b[0m\u001b[0;34m(\u001b[0m\u001b[0mstr\u001b[0m\u001b[0;34m(\u001b[0m\u001b[0mv1\u001b[0m\u001b[0;34m-\u001b[0m\u001b[0mv2\u001b[0m\u001b[0;34m)\u001b[0m\u001b[0;34m)\u001b[0m\u001b[0;34m\u001b[0m\u001b[0;34m\u001b[0m\u001b[0m\n\u001b[0m",
            "\u001b[0;31mTypeError\u001b[0m: unsupported operand type(s) for -: 'str' and 'str'"
          ]
        }
      ]
    },
    {
      "cell_type": "markdown",
      "metadata": {
        "id": "A0ZjAo3KcKTn"
      },
      "source": [
        "**Multiplicación**:\n",
        "\n",
        "Definamos la multiplicación como la suma de varias veces un número, cantidad de veces inidicadas por el otro número. Ejemplo: 4x2=4+4=8 El símbolo que se maneja es (*)"
      ]
    },
    {
      "cell_type": "code",
      "metadata": {
        "colab": {
          "base_uri": "https://localhost:8080/"
        },
        "id": "ZeQZ-YR_cUDY",
        "outputId": "a57f070d-67f4-4710-ac5f-028a6ea2bc8f"
      },
      "source": [
        "cali=5\n",
        "palmira=6\n",
        "print(cali*palmira)"
      ],
      "execution_count": 8,
      "outputs": [
        {
          "output_type": "stream",
          "name": "stdout",
          "text": [
            "30\n"
          ]
        }
      ]
    },
    {
      "cell_type": "markdown",
      "metadata": {
        "id": "oplg-NaWcYqZ"
      },
      "source": [
        "**IMPORTANTE**: Se aplica la ley conmutativa. Recordemos que la ley conmutativa es que el orden de lso factores no altera el resultado (Aplica para suma y multiplicación)"
      ]
    },
    {
      "cell_type": "code",
      "metadata": {
        "colab": {
          "base_uri": "https://localhost:8080/"
        },
        "id": "eOVhu4VfccX5",
        "outputId": "b8f82fe4-13d3-4450-a5c7-bb33da23b5b8"
      },
      "source": [
        "cali=5\n",
        "palmira=6\n",
        "print(palmira*cali)"
      ],
      "execution_count": 9,
      "outputs": [
        {
          "output_type": "stream",
          "name": "stdout",
          "text": [
            "30\n"
          ]
        }
      ]
    },
    {
      "cell_type": "markdown",
      "metadata": {
        "id": "vBEwEW4ycg0Q"
      },
      "source": [
        "División\n",
        "\n",
        "**ACLACRACIÓN**: NO aplica la ley conmutativa. El símbolo de división (/)."
      ]
    },
    {
      "cell_type": "code",
      "metadata": {
        "colab": {
          "base_uri": "https://localhost:8080/"
        },
        "id": "XmC1zk_ncjpp",
        "outputId": "15af8adc-b004-46ba-8e30-3b6a0009cd32"
      },
      "source": [
        "a=20\n",
        "b=4\n",
        "print(a/b, b/a, a+b, a-b)"
      ],
      "execution_count": 10,
      "outputs": [
        {
          "output_type": "stream",
          "name": "stdout",
          "text": [
            "5.0 0.2 24 16\n"
          ]
        }
      ]
    },
    {
      "cell_type": "markdown",
      "metadata": {
        "id": "zByhOAGNcp8f"
      },
      "source": [
        "Para el print podemos separar las operaciones por variable con (,). Lo cual, no afecta la impresión de los resultados por operación asignada."
      ]
    },
    {
      "cell_type": "markdown",
      "metadata": {
        "id": "zEtvY77Bcsls"
      },
      "source": [
        "**Tipos de división**:\n",
        "\n",
        "División exacta (//)\n",
        "División Inexacta(/)"
      ]
    },
    {
      "cell_type": "code",
      "metadata": {
        "colab": {
          "base_uri": "https://localhost:8080/"
        },
        "id": "dW1De1O7cyea",
        "outputId": "35c20062-ee0a-4764-9045-ccb60367bd95"
      },
      "source": [
        "print(15//4)\n",
        "print(15/4)"
      ],
      "execution_count": 11,
      "outputs": [
        {
          "output_type": "stream",
          "name": "stdout",
          "text": [
            "3\n",
            "3.75\n"
          ]
        }
      ]
    },
    {
      "cell_type": "markdown",
      "metadata": {
        "id": "ptadtRpCc9iA"
      },
      "source": [
        "---------------------------------------------------------------------------\n",
        "ZeroDivisionError                         Traceback (most recent call last)\n",
        "<ipython-input-31-d5d1ec7e2e84> in <module>()\n",
        "      1 print(15//4)\n",
        "      2 print(15/4)\n",
        "----> 3 print(2/0)\n",
        "\n",
        "ZeroDivisionError: division by zero\n",
        "Nota: Operación de división, al igual que una división normal, No es posible dividir entre cero. ¿Por qué? Porque en matemáticas es un resultado indefinido.\n",
        "\n",
        "1.Potenciación\n",
        "2.Módulo"
      ]
    },
    {
      "cell_type": "markdown",
      "metadata": {
        "id": "AiYKWiMGdDMX"
      },
      "source": [
        "**Potenciación**:\n",
        "En python el simbolo es (**). El primer valor es la base y el último valor el exponente."
      ]
    },
    {
      "cell_type": "code",
      "metadata": {
        "id": "ivtx1Gj_dI3Y"
      },
      "source": [
        ""
      ],
      "execution_count": null,
      "outputs": []
    }
  ]
}
{
  "nbformat": 4,
  "nbformat_minor": 0,
  "metadata": {
    "colab": {
      "name": "Untitled0.ipynb",
      "provenance": [],
      "authorship_tag": "ABX9TyOyUKyx5LMvzGHpMP/gC1K5",
      "include_colab_link": true
    },
    "kernelspec": {
      "name": "python3",
      "display_name": "Python 3"
    },
    "language_info": {
      "name": "python"
    }
  },
  "cells": [
    {
      "cell_type": "markdown",
      "metadata": {
        "id": "view-in-github",
        "colab_type": "text"
      },
      "source": [
        "<a href=\"https://colab.research.google.com/github/Mapuertag/Datascience300/blob/main/Clase2.ipynb\" target=\"_parent\"><img src=\"https://colab.research.google.com/assets/colab-badge.svg\" alt=\"Open In Colab\"/></a>"
      ]
    },
    {
      "cell_type": "code",
      "metadata": {
        "id": "ysu75O8yaynq"
      },
      "source": [
        ""
      ],
      "execution_count": null,
      "outputs": []
    },
    {
      "cell_type": "markdown",
      "metadata": {
        "id": "cuHBjkgta2JH"
      },
      "source": [
        "**Operadores aritméticos**:\n",
        "Los operadores permiten realizar diferentes procesos de cálculo en cualquier lenguaje de programación.\n",
        "\n",
        "Los operadores más básicos:\n",
        "\n",
        "1.Suma\n",
        "2.Resta\n",
        "3.Multiplicación\n",
        "4.División\n",
        "\n",
        "**Suma y resta**:\n",
        "\n",
        "Símbolo suma(+) el cual se utilizará em medio de la declaraci{on de las variables a operar.\n",
        "\n",
        "Símbolo resta(-)\n"
      ]
    },
    {
      "cell_type": "code",
      "metadata": {
        "colab": {
          "base_uri": "https://localhost:8080/"
        },
        "id": "JljWOL6ubOuV",
        "outputId": "5a06b815-3ab3-4b18-bed4-c59054c987f4"
      },
      "source": [
        "print(10-300)\n",
        "a=20\n",
        "b=35\n",
        "print(a-b)"
      ],
      "execution_count": null,
      "outputs": [
        {
          "output_type": "stream",
          "name": "stdout",
          "text": [
            "-290\n",
            "-15\n"
          ]
        }
      ]
    },
    {
      "cell_type": "code",
      "metadata": {
        "colab": {
          "base_uri": "https://localhost:8080/"
        },
        "id": "wOHCfmPCbek9",
        "outputId": "84144747-c550-4e0e-8c60-f74ab70890e5"
      },
      "source": [
        "numero_botellas=12\n",
        "print(numero_botellas + 8)"
      ],
      "execution_count": null,
      "outputs": [
        {
          "output_type": "stream",
          "name": "stdout",
          "text": [
            "20\n"
          ]
        }
      ]
    },
    {
      "cell_type": "code",
      "metadata": {
        "colab": {
          "base_uri": "https://localhost:8080/"
        },
        "id": "j1HQuNTNbhrw",
        "outputId": "a66c23dc-f41a-4588-f15c-54dda9538952"
      },
      "source": [
        "numero_botellas=12\n",
        "numero_botellas=numero_botellas + 8\n",
        "print(numero_botellas)"
      ],
      "execution_count": null,
      "outputs": [
        {
          "output_type": "stream",
          "name": "stdout",
          "text": [
            "20\n"
          ]
        }
      ]
    },
    {
      "cell_type": "markdown",
      "metadata": {
        "id": "hjzW1hI_bl8Q"
      },
      "source": [
        "**Sumas entre los diferentes tipos de variables**:\n",
        "\n",
        "Recordemos los tipos de variables vistos en la clase ayer:\n",
        "\n",
        "1.Declaración de variables númericas enteros\n",
        "\n",
        "2.Flotantes(incorpora y flexibiliza los decimales)\n",
        "\n",
        "3.Tipo cadena\n",
        "\n"
      ]
    },
    {
      "cell_type": "code",
      "metadata": {
        "colab": {
          "base_uri": "https://localhost:8080/"
        },
        "id": "WbqGYADfbyWB",
        "outputId": "fc52e6ab-4365-49b9-9c06-6fdcc77f2bab"
      },
      "source": [
        "q1=100\n",
        "q2=24.5\n",
        "print(type(q1+q2))"
      ],
      "execution_count": null,
      "outputs": [
        {
          "output_type": "stream",
          "name": "stdout",
          "text": [
            "<class 'float'>\n"
          ]
        }
      ]
    },
    {
      "cell_type": "code",
      "metadata": {
        "colab": {
          "base_uri": "https://localhost:8080/"
        },
        "id": "E7kxHDKgb4so",
        "outputId": "37d1f695-3817-4db2-e4b7-e83914503c9e"
      },
      "source": [
        "v1=\"quiero\"\n",
        "v2=\"un celular\"\n",
        "v3=v1+\" \"+v2\n",
        "print(v1+\" \"+v2)"
      ],
      "execution_count": null,
      "outputs": [
        {
          "output_type": "stream",
          "name": "stdout",
          "text": [
            "quiero un celular\n"
          ]
        }
      ]
    },
    {
      "cell_type": "code",
      "metadata": {
        "colab": {
          "base_uri": "https://localhost:8080/"
        },
        "id": "XteWVL_Zb8Vv",
        "outputId": "88c94c6e-4eb5-4272-8a0f-5eb68ed0cfcd"
      },
      "source": [
        "xq2=235\n",
        "xq3=400\n",
        "print(xq2-xq3)\n",
        "\n",
        "xq2=24.66\n",
        "xq3=4\n",
        "print(type(xq2-xq3))"
      ],
      "execution_count": null,
      "outputs": [
        {
          "output_type": "stream",
          "name": "stdout",
          "text": [
            "-165\n",
            "<class 'float'>\n"
          ]
        }
      ]
    },
    {
      "cell_type": "markdown",
      "metadata": {
        "id": "Y2J8UhBpcAqL"
      },
      "source": [
        "**IMPORTANTE** La resta no funciona directamente para variable tipo cadena. (Ejemplo de error)"
      ]
    },
    {
      "cell_type": "code",
      "metadata": {
        "colab": {
          "base_uri": "https://localhost:8080/",
          "height": 202
        },
        "id": "3maGD5AdcEDz",
        "outputId": "7398a581-062c-4ac9-d8b6-f545113486bc"
      },
      "source": [
        "v1=\"5\"\n",
        "v2=\"2.3\"\n",
        "\n",
        "print(str(v1-v2))"
      ],
      "execution_count": null,
      "outputs": [
        {
          "output_type": "error",
          "ename": "TypeError",
          "evalue": "ignored",
          "traceback": [
            "\u001b[0;31m---------------------------------------------------------------------------\u001b[0m",
            "\u001b[0;31mTypeError\u001b[0m                                 Traceback (most recent call last)",
            "\u001b[0;32m<ipython-input-7-ff3b625be7a1>\u001b[0m in \u001b[0;36m<module>\u001b[0;34m()\u001b[0m\n\u001b[1;32m      2\u001b[0m \u001b[0mv2\u001b[0m\u001b[0;34m=\u001b[0m\u001b[0;34m\"2.3\"\u001b[0m\u001b[0;34m\u001b[0m\u001b[0;34m\u001b[0m\u001b[0m\n\u001b[1;32m      3\u001b[0m \u001b[0;34m\u001b[0m\u001b[0m\n\u001b[0;32m----> 4\u001b[0;31m \u001b[0mprint\u001b[0m\u001b[0;34m(\u001b[0m\u001b[0mstr\u001b[0m\u001b[0;34m(\u001b[0m\u001b[0mv1\u001b[0m\u001b[0;34m-\u001b[0m\u001b[0mv2\u001b[0m\u001b[0;34m)\u001b[0m\u001b[0;34m)\u001b[0m\u001b[0;34m\u001b[0m\u001b[0;34m\u001b[0m\u001b[0m\n\u001b[0m",
            "\u001b[0;31mTypeError\u001b[0m: unsupported operand type(s) for -: 'str' and 'str'"
          ]
        }
      ]
    },
    {
      "cell_type": "markdown",
      "metadata": {
        "id": "A0ZjAo3KcKTn"
      },
      "source": [
        "**Multiplicación**:\n",
        "\n",
        "Definamos la multiplicación como la suma de varias veces un número, cantidad de veces inidicadas por el otro número. Ejemplo: 4x2=4+4=8 El símbolo que se maneja es (*)"
      ]
    },
    {
      "cell_type": "code",
      "metadata": {
        "colab": {
          "base_uri": "https://localhost:8080/"
        },
        "id": "ZeQZ-YR_cUDY",
        "outputId": "a57f070d-67f4-4710-ac5f-028a6ea2bc8f"
      },
      "source": [
        "cali=5\n",
        "palmira=6\n",
        "print(cali*palmira)"
      ],
      "execution_count": null,
      "outputs": [
        {
          "output_type": "stream",
          "name": "stdout",
          "text": [
            "30\n"
          ]
        }
      ]
    },
    {
      "cell_type": "markdown",
      "metadata": {
        "id": "oplg-NaWcYqZ"
      },
      "source": [
        "**IMPORTANTE**: Se aplica la ley conmutativa. Recordemos que la ley conmutativa es que el orden de lso factores no altera el resultado (Aplica para suma y multiplicación)"
      ]
    },
    {
      "cell_type": "code",
      "metadata": {
        "colab": {
          "base_uri": "https://localhost:8080/"
        },
        "id": "eOVhu4VfccX5",
        "outputId": "b8f82fe4-13d3-4450-a5c7-bb33da23b5b8"
      },
      "source": [
        "cali=5\n",
        "palmira=6\n",
        "print(palmira*cali)"
      ],
      "execution_count": null,
      "outputs": [
        {
          "output_type": "stream",
          "name": "stdout",
          "text": [
            "30\n"
          ]
        }
      ]
    },
    {
      "cell_type": "markdown",
      "metadata": {
        "id": "vBEwEW4ycg0Q"
      },
      "source": [
        "División\n",
        "\n",
        "**ACLACRACIÓN**: NO aplica la ley conmutativa. El símbolo de división (/)."
      ]
    },
    {
      "cell_type": "code",
      "metadata": {
        "colab": {
          "base_uri": "https://localhost:8080/"
        },
        "id": "XmC1zk_ncjpp",
        "outputId": "15af8adc-b004-46ba-8e30-3b6a0009cd32"
      },
      "source": [
        "a=20\n",
        "b=4\n",
        "print(a/b, b/a, a+b, a-b)"
      ],
      "execution_count": null,
      "outputs": [
        {
          "output_type": "stream",
          "name": "stdout",
          "text": [
            "5.0 0.2 24 16\n"
          ]
        }
      ]
    },
    {
      "cell_type": "markdown",
      "metadata": {
        "id": "zByhOAGNcp8f"
      },
      "source": [
        "Para el print podemos separar las operaciones por variable con (,). Lo cual, no afecta la impresión de los resultados por operación asignada."
      ]
    },
    {
      "cell_type": "markdown",
      "metadata": {
        "id": "zEtvY77Bcsls"
      },
      "source": [
        "**Tipos de división**:\n",
        "\n",
        "División exacta (//)\n",
        "División Inexacta(/)"
      ]
    },
    {
      "cell_type": "code",
      "metadata": {
        "colab": {
          "base_uri": "https://localhost:8080/"
        },
        "id": "dW1De1O7cyea",
        "outputId": "35c20062-ee0a-4764-9045-ccb60367bd95"
      },
      "source": [
        "print(15//4)\n",
        "print(15/4)"
      ],
      "execution_count": null,
      "outputs": [
        {
          "output_type": "stream",
          "name": "stdout",
          "text": [
            "3\n",
            "3.75\n"
          ]
        }
      ]
    },
    {
      "cell_type": "markdown",
      "metadata": {
        "id": "ptadtRpCc9iA"
      },
      "source": [
        "---------------------------------------------------------------------------\n",
        "ZeroDivisionError                         Traceback (most recent call last)\n",
        "<ipython-input-31-d5d1ec7e2e84> in <module>()\n",
        "      1 print(15//4)\n",
        "      2 print(15/4)\n",
        "----> 3 print(2/0)\n",
        "\n",
        "ZeroDivisionError: division by zero\n",
        "Nota: Operación de división, al igual que una división normal, No es posible dividir entre cero. ¿Por qué? Porque en matemáticas es un resultado indefinido.\n",
        "\n",
        "1.Potenciación\n",
        "2.Módulo"
      ]
    },
    {
      "cell_type": "markdown",
      "metadata": {
        "id": "AiYKWiMGdDMX"
      },
      "source": [
        "**Potenciación**:\n",
        "En python el simbolo es (**). El primer valor es la base y el último valor el exponente."
      ]
    },
    {
      "cell_type": "code",
      "metadata": {
        "id": "ivtx1Gj_dI3Y",
        "outputId": "cb613106-c025-4bc4-c115-19bc70c254c3",
        "colab": {
          "base_uri": "https://localhost:8080/"
        }
      },
      "source": [
        "print(2**4)"
      ],
      "execution_count": 1,
      "outputs": [
        {
          "output_type": "stream",
          "name": "stdout",
          "text": [
            "16\n"
          ]
        }
      ]
    },
    {
      "cell_type": "markdown",
      "metadata": {
        "id": "MsYFE1AoYC6n"
      },
      "source": [
        "**Módulo**\n",
        "Le llamamos módulo al residuo de la operación de división. El símbolo usado para mostrar el residuo es (%) El primer valor es el dividendo y el último valor es el divisor.\n"
      ]
    },
    {
      "cell_type": "code",
      "metadata": {
        "id": "NzQtH6SuYLwU",
        "outputId": "94c70b3b-a840-45be-d416-e8ca1dccd472",
        "colab": {
          "base_uri": "https://localhost:8080/"
        }
      },
      "source": [
        "print(88%9)"
      ],
      "execution_count": 2,
      "outputs": [
        {
          "output_type": "stream",
          "name": "stdout",
          "text": [
            "7\n"
          ]
        }
      ]
    },
    {
      "cell_type": "markdown",
      "metadata": {
        "id": "M22YuV_uYSt4"
      },
      "source": [
        "**Operadores de comparación**\n",
        "Los operadores de comparación, sirven para comaprar varios valores. En la vida cotidiana a la hora de tomar decisiones tenemos que decidir entre un camino u otro, ejemplo: Compras, decisiones de vida, caminos por recorrer.\n",
        "\n",
        "**Igualdad**\n",
        "\n",
        "Símbolo en Python es(==)"
      ]
    },
    {
      "cell_type": "code",
      "metadata": {
        "id": "R-FWYBpdYhv4",
        "outputId": "83333567-be90-4566-e7e0-e4b329317430",
        "colab": {
          "base_uri": "https://localhost:8080/"
        }
      },
      "source": [
        "x=30\n",
        "z=31\n",
        "print(x==z)"
      ],
      "execution_count": 3,
      "outputs": [
        {
          "output_type": "stream",
          "name": "stdout",
          "text": [
            "False\n"
          ]
        }
      ]
    },
    {
      "cell_type": "code",
      "metadata": {
        "id": "1gmiE8nQYnho",
        "outputId": "c39a1224-c3ca-49cd-c36e-1bc21e626c79",
        "colab": {
          "base_uri": "https://localhost:8080/"
        }
      },
      "source": [
        "x=\"casa\"\n",
        "z=\"caza\"\n",
        "print(x!=z)"
      ],
      "execution_count": 4,
      "outputs": [
        {
          "output_type": "stream",
          "name": "stdout",
          "text": [
            "True\n"
          ]
        }
      ]
    },
    {
      "cell_type": "markdown",
      "metadata": {
        "id": "u2wBvDZgYreY"
      },
      "source": [
        "**Mayor que**\n",
        "\n",
        "Símbolo en Python(>) Siempre en comparativa se designa cual es menor o el mayor, por el valor que está a la izquiera de la operación.\n"
      ]
    },
    {
      "cell_type": "code",
      "metadata": {
        "id": "sqep_IcIYx44",
        "outputId": "ac331e0e-471b-4f27-889c-30e8b840f088",
        "colab": {
          "base_uri": "https://localhost:8080/"
        }
      },
      "source": [
        "print(30>29.8)\n",
        "print(20>10)"
      ],
      "execution_count": 5,
      "outputs": [
        {
          "output_type": "stream",
          "name": "stdout",
          "text": [
            "True\n",
            "True\n"
          ]
        }
      ]
    },
    {
      "cell_type": "markdown",
      "metadata": {
        "id": "3hqcKciUY1sw"
      },
      "source": [
        "**Menor que**\n",
        "\n",
        "Caso contrario, el símbolo es (<).\n",
        "\n"
      ]
    },
    {
      "cell_type": "code",
      "metadata": {
        "id": "FclYG9nGY7pH"
      },
      "source": [
        "**Mayor o igual que**\n",
        "\n",
        "El símbolo es (<=)"
      ],
      "execution_count": null,
      "outputs": []
    },
    {
      "cell_type": "code",
      "metadata": {
        "id": "NECKntNfZLe3",
        "outputId": "d1688a6f-489e-44bd-c695-4ceb9dceb867",
        "colab": {
          "base_uri": "https://localhost:8080/"
        }
      },
      "source": [
        "c=45\n",
        "print(c<=46)"
      ],
      "execution_count": 6,
      "outputs": [
        {
          "output_type": "stream",
          "name": "stdout",
          "text": [
            "True\n"
          ]
        }
      ]
    },
    {
      "cell_type": "markdown",
      "metadata": {
        "id": "CH5XLRsqZPSg"
      },
      "source": [
        "Tener en cuenta: En comparaciones los resultados que nos arrojan siempre es de tipo Booleano es decir: True or False (Verdadero o Falso).\n",
        "\n",
        "**Operadores Lògicos**\n",
        "\n",
        "Python incluye tres operadores lógicos base:\n",
        "\n",
        "1.AND(y)\n",
        "2.OR(o)\n",
        "3.NOT(No)\n",
        "\n",
        "Los operadores lógicos funcionan solo con valores ovariables booleanas, a su vez, devuelven como respuesta valores booleanos.\n",
        "\n",
        "**Operador AND**\n",
        "\n",
        "Este operador solo devolverá (Verdadero) si ambos valores lo son. ¿Cómo usar el operador AND? Para usar este operador basta con escribir un valor Booleano, luego, la palabra \"and\" y por último otro valor booleano.\n",
        "\n",
        "**Ejemplo**\n"
      ]
    },
    {
      "cell_type": "code",
      "metadata": {
        "id": "WPBJaXezZrtY",
        "outputId": "864db8db-00a6-4544-d809-d406f1f088ea",
        "colab": {
          "base_uri": "https://localhost:8080/"
        }
      },
      "source": [
        "print(True and False)"
      ],
      "execution_count": 7,
      "outputs": [
        {
          "output_type": "stream",
          "name": "stdout",
          "text": [
            "False\n"
          ]
        }
      ]
    },
    {
      "cell_type": "markdown",
      "metadata": {
        "id": "HrZiej_qZvB5"
      },
      "source": [
        "1. True and True = True\n",
        "\n",
        "1.True and False = False\n",
        "2.False and False =False\n",
        "3.False and True =False"
      ]
    },
    {
      "cell_type": "markdown",
      "metadata": {
        "id": "cYXSKDm6Z13w"
      },
      "source": [
        "**Operador OR**\n",
        "A diferencia del operador AND, Or devuelve a todo verdadero a menos de que ambos valores sean FALSOS.\n"
      ]
    },
    {
      "cell_type": "code",
      "metadata": {
        "id": "fpAaW8YlZ7jw",
        "outputId": "dda8808b-d42f-4ae0-934b-90873e1a656e",
        "colab": {
          "base_uri": "https://localhost:8080/"
        }
      },
      "source": [
        "print(True or True)\n",
        "print(False or False)"
      ],
      "execution_count": 8,
      "outputs": [
        {
          "output_type": "stream",
          "name": "stdout",
          "text": [
            "True\n",
            "False\n"
          ]
        }
      ]
    },
    {
      "cell_type": "markdown",
      "metadata": {
        "id": "FlCGCuzfaEFQ"
      },
      "source": [
        "**Ejemplo de contextualizació OR**\n",
        "1. False or False = False\n",
        "\n",
        "1.True or True = True\n",
        "2.True or False =True\n",
        "3.False or True =True\n"
      ]
    },
    {
      "cell_type": "code",
      "metadata": {
        "id": "iTT6O4x8aOEg",
        "outputId": "c32a441a-ba8a-473c-a4dc-cf3ea0cb87c1",
        "colab": {
          "base_uri": "https://localhost:8080/"
        }
      },
      "source": [
        "a=3\n",
        "b=2\n",
        "print(a>4 or a==4)\n",
        "print(b==b and a>=b)"
      ],
      "execution_count": 9,
      "outputs": [
        {
          "output_type": "stream",
          "name": "stdout",
          "text": [
            "False\n",
            "True\n"
          ]
        }
      ]
    },
    {
      "cell_type": "markdown",
      "metadata": {
        "id": "2RRBOEGKaXag"
      },
      "source": [
        "**Operador NOT**\n",
        "Este operador es negación, en español \"No\". Este operador es muy especial, dado uqe por sí solo no sirve para hacer ninguna operación, lo único que hace es negar, o en palabras más simples, invertir el valor booleano que viene después de él.\n"
      ]
    },
    {
      "cell_type": "code",
      "metadata": {
        "id": "_vJoBxWEadl4",
        "outputId": "29aaf5bd-1f66-4ce8-a519-5055d6112e39",
        "colab": {
          "base_uri": "https://localhost:8080/"
        }
      },
      "source": [
        "print(not False)\n",
        "print(not True)"
      ],
      "execution_count": 10,
      "outputs": [
        {
          "output_type": "stream",
          "name": "stdout",
          "text": [
            "True\n",
            "False\n"
          ]
        }
      ]
    },
    {
      "cell_type": "markdown",
      "metadata": {
        "id": "1GIH4p9HajtQ"
      },
      "source": [
        "**Procedencia de operadores**\n",
        "Es muy importante manejar el orden de las operaciones al realizarlas, para no caer en problemas de código error.\n",
        "\n",
        "El orden debe ser:\n",
        "\n",
        "1.De izquierda a derecha \n",
        "2.Parentesis \n",
        "3.Potenciación o radicación \n",
        "4.Multiplicación y división \n",
        "5.Suma y Resta \n",
        "\n",
        "**Ejemplo**: 4-2(10)=\n",
        "\n",
        "1.Primero el parentesis: 4-2*10= \n",
        "2.Se continúa con la multiplicación: 4-20= \n",
        "3.Por último la resta: 4-20=-16 \n",
        "\n",
        "¿Cuál crees que es el resultado de siguiente operación?"
      ]
    },
    {
      "cell_type": "code",
      "metadata": {
        "id": "MU9Atgcpa7tY",
        "outputId": "83c13544-8c04-4d62-bd88-682bab0fa1ed",
        "colab": {
          "base_uri": "https://localhost:8080/"
        }
      },
      "source": [
        "a=False\n",
        "b=True\n",
        "c=True\n",
        "print(not c and (a or b) )"
      ],
      "execution_count": 11,
      "outputs": [
        {
          "output_type": "stream",
          "name": "stdout",
          "text": [
            "False\n"
          ]
        }
      ]
    },
    {
      "cell_type": "code",
      "metadata": {
        "id": "HWRPQoM-bEqg",
        "outputId": "b4909c10-b451-45fc-cd5e-bfd3dba004c7",
        "colab": {
          "base_uri": "https://localhost:8080/"
        }
      },
      "source": [
        "print(3-2*(13-5))"
      ],
      "execution_count": 12,
      "outputs": [
        {
          "output_type": "stream",
          "name": "stdout",
          "text": [
            "-13\n"
          ]
        }
      ]
    },
    {
      "cell_type": "markdown",
      "metadata": {
        "id": "ltwIsMJ2bHfV"
      },
      "source": [
        "**Resumen**\n",
        "\n",
        "1.Aplicación de ley conmutativa: Sólo para suma y resta (Operadores básicos)\n",
        "\n",
        "2.Los resultados con operadores lógicos son de tipo Booleano.\n",
        "\n",
        "3.NO se puede realizar resta entre variables de tipo cadena (El procedimiento si abarca números es la conversión desde el inicio).\n",
        "\n",
        "4.Si aplicamos el condicional AND, para el que resultado sea TRUE, la única forma es que ambos valores sean verdaderos.\n",
        "\n",
        "5.En cambio con el OR, si cumple que alguno de los dos valores son TRUE, el resultado será TRUE.\n",
        "\n"
      ]
    },
    {
      "cell_type": "markdown",
      "metadata": {
        "id": "iq-1Brb_bnaY"
      },
      "source": [
        ""
      ]
    }
  ]
}